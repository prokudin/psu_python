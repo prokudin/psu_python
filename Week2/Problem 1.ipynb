{
 "cells": [
  {
   "cell_type": "markdown",
   "metadata": {},
   "source": [
    "Problem 1\n",
    " Bookmark this page\n",
    "Problem 1 - Paying Debt off in a Year\n",
    "0.0/10.0 points (graded)\n",
    "Write a program to calculate the credit card balance after one year if a person only pays the minimum monthly payment required by the credit card company each month.\n",
    "\n",
    "The following variables contain values as described below:\n",
    "\n",
    "balance - the outstanding balance on the credit card\n",
    "\n",
    "annualInterestRate - annual interest rate as a decimal\n",
    "\n",
    "monthlyPaymentRate - minimum monthly payment rate as a decimal\n",
    "\n",
    "For each month, calculate statements on the monthly payment and remaining balance. At the end of 12 months, print out the remaining balance. Be sure to print out no more than two decimal digits of accuracy - so print\n",
    "\n",
    "Remaining balance: 813.41\n",
    "instead of\n",
    "\n",
    "Remaining balance: 813.4141998135 \n",
    "So your program only prints out one thing: the remaining balance at the end of the year in the format:\n",
    "\n",
    "Remaining balance: 4784.0\n",
    "A summary of the required math is found below:\n",
    "\n",
    "Monthly interest rate= (Annual interest rate) / 12.0\n",
    "Minimum monthly payment = (Minimum monthly payment rate) x (Previous balance)\n",
    "Monthly unpaid balance = (Previous balance) - (Minimum monthly payment)\n",
    "Updated balance each month = (Monthly unpaid balance) + (Monthly interest rate x Monthly unpaid balance)\n",
    "\n",
    "We provide sample test cases below. We suggest you develop your code on your own machine, and make sure your code passes the sample test cases, before you paste it into the box below.\n",
    "\n",
    "Note: Depending on where you round in this problem, your answers may be off by a few cents in either direction. Do not worry if your solution is within +/- 0.05 of the correct answer. Be sure to test these on your own machine - and that you get the same output! - before running your code on this webpage!\n",
    "Test Cases:\n",
    "\t      # Test Case 1:\n",
    "\t      balance = 42\n",
    "\t      annualInterestRate = 0.2\n",
    "\t      monthlyPaymentRate = 0.04\n",
    "\t      \n",
    "\t      # Result Your Code Should Generate Below:\n",
    "\t      Remaining balance: 31.38\n",
    "                    \n",
    "          # To make sure you are doing calculation correctly, this is the \n",
    "          # remaining balance you should be getting at each month for this example\n",
    "            Month 1 Remaining balance: 40.99\n",
    "            Month 2 Remaining balance: 40.01\n",
    "            Month 3 Remaining balance: 39.05\n",
    "            Month 4 Remaining balance: 38.11\n",
    "            Month 5 Remaining balance: 37.2\n",
    "            Month 6 Remaining balance: 36.3\n",
    "            Month 7 Remaining balance: 35.43\n",
    "            Month 8 Remaining balance: 34.58\n",
    "            Month 9 Remaining balance: 33.75\n",
    "            Month 10 Remaining balance: 32.94\n",
    "            Month 11 Remaining balance: 32.15\n",
    "            Month 12 Remaining balance: 31.38\n",
    "\n",
    "                \n",
    "\n",
    "\t      Test Case 2:\n",
    "\t      balance = 484\n",
    "\t      annualInterestRate = 0.2\n",
    "\t      monthlyPaymentRate = 0.04\n",
    "\t      \n",
    "\t      Result Your Code Should Generate Below:\n",
    "\t      Remaining balance: 361.61\n"
   ]
  },
  {
   "cell_type": "code",
   "execution_count": 1,
   "metadata": {},
   "outputs": [
    {
     "name": "stdout",
     "output_type": "stream",
     "text": [
      "Number of steps  8\n",
      "Cube root of  -27  is =  -3.00009155273\n"
     ]
    }
   ],
   "source": [
    "#bisection:\n",
    "number = -27\n",
    "\n",
    "def middle(a,b):\n",
    "    return (a+b)/2.\n",
    "\n",
    "epsilon = 0.01\n",
    "step=0\n",
    "\n",
    "if number > 1:\n",
    "    up  = number\n",
    "    low = 0\n",
    "elif 0<number<1:\n",
    "    up  = 1\n",
    "    low =0\n",
    "elif -1<number<0:\n",
    "    up  = 0\n",
    "    low =-1\n",
    "elif number<-1:\n",
    "    up  = 0\n",
    "    low =number\n",
    "\n",
    "\n",
    "guess_root = middle(up,low)\n",
    "\n",
    "\n",
    "\n",
    "while abs(guess_root**3 - number) >= epsilon:\n",
    "    if guess_root**3 > number:\n",
    "        up=guess_root\n",
    "    else:\n",
    "        low=guess_root\n",
    "        step+=1    \n",
    "    guess_root = middle(up,low)\n",
    "    \n",
    "\n",
    "    \n",
    "print \"Number of steps \", step        \n",
    "print \"Cube root of \", number, \" is = \", guess_root        "
   ]
  },
  {
   "cell_type": "code",
   "execution_count": 2,
   "metadata": {},
   "outputs": [
    {
     "name": "stdout",
     "output_type": "stream",
     "text": [
      "Type an integer number: 4\n",
      "('Result is: ', '100')\n"
     ]
    }
   ],
   "source": [
    "# binary\n",
    "x = int(input(\"Type an integer number: \"))\n",
    "\n",
    "result = ''\n",
    "isNegative=False\n",
    "\n",
    "if x < 0:\n",
    "    isNegative = True\n",
    "    x=abs(x)\n",
    "    \n",
    "if x == 0:\n",
    "    result='0'\n",
    "else:\n",
    "    while(x > 0):\n",
    "        result = str(x%2) + result\n",
    "        x=x//2\n",
    "\n",
    "if isNegative: result = '-' + result        \n",
    "\n",
    "print(\"Result is: \", result)        "
   ]
  },
  {
   "cell_type": "code",
   "execution_count": 3,
   "metadata": {},
   "outputs": [
    {
     "name": "stdout",
     "output_type": "stream",
     "text": [
      "Number of guesses 4\n",
      "Square root of 0.25  is approximately 0.5002821906\n"
     ]
    }
   ],
   "source": [
    "#Newton\n",
    "epsilon = 0.01\n",
    "number = 0.25\n",
    "guess = number/2.\n",
    "numGuesses=0\n",
    "\n",
    "while abs(guess**2 - number)>=epsilon:\n",
    "    numGuesses+=1\n",
    "    guess = guess - (guess**2-number)/(2.*guess)\n",
    "print \"Number of guesses\", numGuesses\n",
    "print \"Square root of\",number, \" is approximately\", guess"
   ]
  },
  {
   "cell_type": "code",
   "execution_count": 4,
   "metadata": {},
   "outputs": [
    {
     "name": "stdout",
     "output_type": "stream",
     "text": [
      " Month  1  Remaining balance:  40.992\n",
      " Month  2  Remaining balance:  40.008192\n",
      " Month  3  Remaining balance:  39.047995392\n",
      " Month  4  Remaining balance:  38.1108435026\n",
      " Month  5  Remaining balance:  37.1961832585\n",
      " Month  6  Remaining balance:  36.3034748603\n",
      " Month  7  Remaining balance:  35.4321914637\n",
      " Month  8  Remaining balance:  34.5818188685\n",
      " Month  9  Remaining balance:  33.7518552157\n",
      " Month  10  Remaining balance:  32.9418106905\n",
      " Month  11  Remaining balance:  32.151207234\n",
      " Month  12  Remaining balance:  31.3795782603\n"
     ]
    }
   ],
   "source": [
    "balance = 42\n",
    "annualInterestRate = 0.2\n",
    "monthlyPaymentRate = 0.04\n",
    "\n",
    "# Monthly interest rate= (Annual interest rate) / 12.0 \n",
    "# Minimum monthly payment = (Minimum monthly payment rate) x (Previous balance) \n",
    "# Monthly unpaid balance = (Previous balance) - (Minimum monthly payment) \n",
    "# Updated balance each month = (Monthly unpaid balance) + (Monthly interest rate x Monthly unpaid balance)\n",
    "\n",
    "montlyInterestRate = annualInterestRate/12.\n",
    "\n",
    "previousBalance = balance\n",
    "\n",
    "def minumumPayment(balance):\n",
    "    return balance*monthlyPaymentRate\n",
    "\n",
    "def unpaidBalance(balance):\n",
    "    return balance - minumumPayment(balance)\n",
    "    \n",
    "def updatedUnpaidBalance(balance):\n",
    "    return unpaidBalance(balance) + montlyInterestRate*unpaidBalance(balance)\n",
    "\n",
    "\n",
    "for i in range(12):\n",
    "    print \" Month \",i+1,\" Remaining balance: \", updatedUnpaidBalance(balance)\n",
    "    balance = updatedUnpaidBalance(balance)\n",
    "    \n",
    "    \n"
   ]
  },
  {
   "cell_type": "code",
   "execution_count": null,
   "metadata": {},
   "outputs": [],
   "source": []
  }
 ],
 "metadata": {
  "anaconda-cloud": {},
  "kernelspec": {
   "display_name": "Python 2",
   "language": "python",
   "name": "python2"
  },
  "language_info": {
   "codemirror_mode": {
    "name": "ipython",
    "version": 2
   },
   "file_extension": ".py",
   "mimetype": "text/x-python",
   "name": "python",
   "nbconvert_exporter": "python",
   "pygments_lexer": "ipython2",
   "version": "2.7.15"
  }
 },
 "nbformat": 4,
 "nbformat_minor": 1
}
