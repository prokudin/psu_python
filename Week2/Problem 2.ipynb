{
 "cells": [
  {
   "cell_type": "markdown",
   "metadata": {},
   "source": [
    "Problem 2\n",
    " Bookmark this page\n",
    "Problem 2 - Paying Debt Off in a Year\n",
    "0.0/15.0 points (graded)\n",
    "Now write a program that calculates the minimum fixed monthly payment needed in order pay off a credit card balance within 12 months. By a fixed monthly payment, we mean a single number which does not change each month, but instead is a constant amount that will be paid each month.\n",
    "\n",
    "In this problem, we will not be dealing with a minimum monthly payment rate.\n",
    "\n",
    "The following variables contain values as described below:\n",
    "\n",
    "balance - the outstanding balance on the credit card\n",
    "\n",
    "annualInterestRate - annual interest rate as a decimal\n",
    "\n",
    "The program should print out one line: the lowest monthly payment that will pay off all debt in under 1 year, for example:\n",
    "\n",
    "Lowest Payment: 180 \n",
    "Assume that the interest is compounded monthly according to the balance at the end of the month (after the payment for that month is made). The monthly payment must be a multiple of $10 and is the same for all months. Notice that it is possible for the balance to become negative using this payment scheme, which is okay. A summary of the required math is found below:\n",
    "\n",
    "Monthly interest rate = (Annual interest rate) / 12.0\n",
    "Monthly unpaid balance = (Previous balance) - (Minimum fixed monthly payment)\n",
    "Updated balance each month = (Monthly unpaid balance) + (Monthly interest rate x Monthly unpaid balance)\n",
    "\n",
    "Be sure to test these on your own machine - and that you get the same output! - before running your code on this webpage!\n",
    "Test Cases:\n",
    "                  \n",
    "\t      Test Case 1:\n",
    "\t      balance = 3329\n",
    "\t      annualInterestRate = 0.2\n",
    "\n",
    "\t      Result Your Code Should Generate:\n",
    "\t      -------------------\n",
    "\t      Lowest Payment: 310\n",
    "      \n",
    "                \n",
    "                  \n",
    "\t      Test Case 2:\n",
    "\t      balance = 4773\n",
    "\t      annualInterestRate = 0.2\n",
    "\t      \n",
    "\t      Result Your Code Should Generate:\n",
    "\t      -------------------\n",
    "\t      Lowest Payment: 440\n",
    "      \n",
    "                \n",
    "                  \n",
    "\t      Test Case 3:\n",
    "\t      balance = 3926\n",
    "\t      annualInterestRate = 0.2\n",
    "\n",
    "\t      Result Your Code Should Generate:\n",
    "\t      -------------------\n",
    "\t      Lowest Payment: 360\n",
    "    "
   ]
  },
  {
   "cell_type": "code",
   "execution_count": 1,
   "metadata": {
    "collapsed": false
   },
   "outputs": [
    {
     "name": "stdout",
     "output_type": "stream",
     "text": [
      "Lowest Payment:  310\n",
      "Balance after one year:  -89.3324939084\n"
     ]
    }
   ],
   "source": [
    "balance = 3329\n",
    "annualInterestRate = 0.2\n",
    "\n",
    "minimumPayment = 0 # ~ 10 dollars\n",
    "\n",
    "montlyInterestRate = annualInterestRate/12.\n",
    "\n",
    "\n",
    "def unpaidBalance(balance,minimumPayment):\n",
    "    return balance - minimumPayment\n",
    "    \n",
    "def updatedUnpaidBalance(balance,minimumPayment):\n",
    "    return unpaidBalance(balance,minimumPayment) + montlyInterestRate*unpaidBalance(balance,minimumPayment)\n",
    "\n",
    "def balanceAfterYear(balance,minimumPayment):\n",
    "    for i in range(12):\n",
    "        balance = updatedUnpaidBalance(balance,minimumPayment)\n",
    "    return balance    \n",
    "\n",
    "\n",
    "while balanceAfterYear(balance,minimumPayment) > 0:\n",
    "    minimumPayment +=10\n",
    "\n",
    "        \n",
    "print \"Lowest Payment: \",minimumPayment\n",
    "print \"Balance after one year: \",balanceAfterYear(balance,minimumPayment)\n",
    "\n"
   ]
  },
  {
   "cell_type": "code",
   "execution_count": null,
   "metadata": {
    "collapsed": true
   },
   "outputs": [],
   "source": []
  }
 ],
 "metadata": {
  "anaconda-cloud": {},
  "kernelspec": {
   "display_name": "Python [default]",
   "language": "python",
   "name": "python2"
  },
  "language_info": {
   "codemirror_mode": {
    "name": "ipython",
    "version": 2
   },
   "file_extension": ".py",
   "mimetype": "text/x-python",
   "name": "python",
   "nbconvert_exporter": "python",
   "pygments_lexer": "ipython2",
   "version": "2.7.12"
  }
 },
 "nbformat": 4,
 "nbformat_minor": 1
}
