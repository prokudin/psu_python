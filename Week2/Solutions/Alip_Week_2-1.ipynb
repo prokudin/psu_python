{
 "cells": [
  {
   "cell_type": "code",
   "execution_count": 23,
   "metadata": {},
   "outputs": [
    {
     "name": "stdout",
     "output_type": "stream",
     "text": [
      "this program calculates your balance at end of the year if you only pay minimun.\n",
      "enter your balance: 484\n",
      "enter your annual interest rate: 0.2\n",
      "enter your monthly payment rate: 0.04\n",
      "your remaining balance is: 364.43\n"
     ]
    }
   ],
   "source": [
    "print('this program calculates your balance at end of the year if you only pay minimun.')\n",
    "\n",
    "balance = input('enter your balance: ')\n",
    "annualrate = raw_input('enter your annual interest rate: ')\n",
    "monthpayrate = raw_input('enter your monthly payment rate: ')\n",
    "monthlyrate = float(annualrate)/12\n",
    "remain = balance\n",
    "\n",
    "for i in range(1,12):\n",
    "    minimum = remain * float(monthpayrate)\n",
    "    unpaid = remain - minimum\n",
    "    remain = (1 + monthlyrate) * unpaid\n",
    "#    unpaid = round (unpaid,2)\n",
    "    \n",
    "print('your remaining balance is: ' + str(round(unpaid,2)))"
   ]
  },
  {
   "cell_type": "code",
   "execution_count": null,
   "metadata": {},
   "outputs": [],
   "source": []
  },
  {
   "cell_type": "code",
   "execution_count": null,
   "metadata": {},
   "outputs": [],
   "source": []
  },
  {
   "cell_type": "code",
   "execution_count": null,
   "metadata": {},
   "outputs": [],
   "source": []
  },
  {
   "cell_type": "code",
   "execution_count": null,
   "metadata": {},
   "outputs": [],
   "source": []
  }
 ],
 "metadata": {
  "kernelspec": {
   "display_name": "Python 2",
   "language": "python",
   "name": "python2"
  }
 },
 "nbformat": 4,
 "nbformat_minor": 2
}
