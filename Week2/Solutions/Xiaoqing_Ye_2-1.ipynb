{
 "cells": [
  {
   "cell_type": "code",
   "execution_count": 1,
   "metadata": {
    "collapsed": false
   },
   "outputs": [
    {
     "name": "stdout",
     "output_type": "stream",
     "text": [
      "Remaining balance:31.38\n"
     ]
    }
   ],
   "source": [
    "balance = 42\n",
    "annualInterestRate = 0.2\n",
    "monthlyInterestRate = annualInterestRate/12.0\n",
    "monthlyPaymentRate = 0.04\n",
    "month = 0\n",
    "while month < 12:\n",
    "    MinMonthlyPayment = balance * monthlyPaymentRate \n",
    "    MonthlyUnpaidBalance = balance - MinMonthlyPayment\n",
    "    balance = MonthlyUnpaidBalance + (monthlyInterestRate * MonthlyUnpaidBalance)\n",
    "    month += 1\n",
    "    #print(\"Month\" + str(month), end = \" \")\n",
    "    #print(\"Remaining balance:\" + str(round(balance,2)))\n",
    "print(\"Remaining balance:\" + str(round(balance,2)))"
   ]
  },
  {
   "cell_type": "code",
   "execution_count": null,
   "metadata": {
    "collapsed": true
   },
   "outputs": [],
   "source": []
  }
 ],
 "metadata": {
  "anaconda-cloud": {},
  "kernelspec": {
   "display_name": "Python [default]",
   "language": "python",
   "name": "python2"
  },
  "language_info": {
   "codemirror_mode": {
    "name": "ipython",
    "version": 2
   },
   "file_extension": ".py",
   "mimetype": "text/x-python",
   "name": "python",
   "nbconvert_exporter": "python",
   "pygments_lexer": "ipython2",
   "version": "2.7.12"
  }
 },
 "nbformat": 4,
 "nbformat_minor": 2
}
