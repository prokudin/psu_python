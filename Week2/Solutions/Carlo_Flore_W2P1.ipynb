{
 "cells": [
  {
   "cell_type": "markdown",
   "metadata": {},
   "source": [
    "Problem 1 - Paying Debt off in a Year\n",
    "\n",
    "Write a program to calculate the credit card balance after one year if a person only pays the minimum monthly payment required by the credit card company each month.\n",
    "\n",
    "The following variables contain values as described below:\n",
    "\n",
    "balance - the outstanding balance on the credit card\n",
    "\n",
    "annualInterestRate - annual interest rate as a decimal\n",
    "\n",
    "monthlyPaymentRate - minimum monthly payment rate as a decimal\n",
    "\n",
    "For each month, calculate statements on the monthly payment and remaining balance. At the end of 12 months, print out the remaining balance. Be sure to print out no more than two decimal digits of accuracy - so print\n",
    "\n",
    "Remaining balance: 813.41\n",
    "\n",
    "instead of\n",
    "\n",
    "Remaining balance: 813.4141998135 \n",
    "\n",
    "So your program only prints out one thing: the remaining balance at the end of the year in the format:\n",
    "\n",
    "Remaining balance: 4784.0\n",
    "\n",
    "A summary of the required math is found below:\n",
    "\n",
    "Monthly interest rate= (Annual interest rate) / 12.0\n",
    "Minimum monthly payment = (Minimum monthly payment rate) x (Previous balance)\n",
    "Monthly unpaid balance = (Previous balance) - (Minimum monthly payment)\n",
    "Updated balance each month = (Monthly unpaid balance) + (Monthly interest rate x Monthly unpaid balance)\n",
    "\n",
    "We provide sample test cases below. We suggest you develop your code on your own machine, and make sure your code passes the sample test cases, before you paste it into the box below."
   ]
  },
  {
   "cell_type": "code",
   "execution_count": null,
   "metadata": {},
   "outputs": [],
   "source": [
    "#here the format as EdX wants to be given to the platform \n",
    "for month in range(1,13):\n",
    "    monthlyInterestRate = annualInterestRate/12.0\n",
    "    minMonthlyPayment = monthlyPaymentRate*balance\n",
    "    monthlyUnpaidBalance = balance - minMonthlyPayment\n",
    "    new_balance = monthlyUnpaidBalance + (monthlyInterestRate*monthlyUnpaidBalance)\n",
    "    balance = new_balance\n",
    "print('Remaining balance:',round(new_balance,2))"
   ]
  },
  {
   "cell_type": "markdown",
   "metadata": {},
   "source": [
    "I can define a function:"
   ]
  },
  {
   "cell_type": "code",
   "execution_count": 1,
   "metadata": {},
   "outputs": [
    {
     "name": "stdout",
     "output_type": "stream",
     "text": [
      "Remaining balance: 361.61\n"
     ]
    }
   ],
   "source": [
    "def myAnnualBalance(balance,annualInterestRate,monthlyPaymentRate):\n",
    "    for month in range(1,13):\n",
    "        monthlyInterestRate = annualInterestRate/12.0\n",
    "        minMonthlyPayment = monthlyPaymentRate*balance\n",
    "        monthlyUnpaidBalance = balance-minMonthlyPayment\n",
    "        new_balance = monthlyUnpaidBalance + (monthlyInterestRate*monthlyUnpaidBalance)\n",
    "        balance = new_balance\n",
    "    return print('Remaining balance:',round(new_balance,2))\n",
    "\n",
    "#let's test the function\n",
    "myAnnualBalance(484,0.2,0.04)"
   ]
  },
  {
   "cell_type": "code",
   "execution_count": null,
   "metadata": {},
   "outputs": [],
   "source": []
  }
 ],
 "metadata": {
  "kernelspec": {
   "display_name": "Python 3",
   "language": "python",
   "name": "python3"
  },
  "language_info": {
   "codemirror_mode": {
    "name": "ipython",
    "version": 3
   },
   "file_extension": ".py",
   "mimetype": "text/x-python",
   "name": "python",
   "nbconvert_exporter": "python",
   "pygments_lexer": "ipython3",
   "version": "3.7.1"
  }
 },
 "nbformat": 4,
 "nbformat_minor": 2
}
