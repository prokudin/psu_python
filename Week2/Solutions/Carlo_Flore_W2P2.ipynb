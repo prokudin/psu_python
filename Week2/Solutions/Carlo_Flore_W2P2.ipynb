{
 "cells": [
  {
   "cell_type": "markdown",
   "metadata": {},
   "source": [
    "Problem 2 - Paying Debt Off in a Year\n",
    "\n",
    "Now write a program that calculates the minimum fixed monthly payment needed in order pay off a credit card balance within 12 months. By a fixed monthly payment, we mean a single number which does not change each month, but instead is a constant amount that will be paid each month.\n",
    "\n",
    "In this problem, we will not be dealing with a minimum monthly payment rate.\n",
    "\n",
    "The following variables contain values as described below:\n",
    "\n",
    "balance - the outstanding balance on the credit card\n",
    "\n",
    "annualInterestRate - annual interest rate as a decimal\n",
    "\n",
    "The program should print out one line: the lowest monthly payment that will pay off all debt in under 1 year, for example:\n",
    "\n",
    "Lowest Payment: 180 \n",
    "Assume that the interest is compounded monthly according to the balance at the end of the month (after the payment for that month is made). The monthly payment must be a multiple of $10 and is the same for all months. Notice that it is possible for the balance to become negative using this payment scheme, which is okay. A summary of the required math is found below:\n",
    "\n",
    "Monthly interest rate = (Annual interest rate) / 12.0\n",
    "Monthly unpaid balance = (Previous balance) - (Minimum fixed monthly payment)\n",
    "Updated balance each month = (Monthly unpaid balance) + (Monthly interest rate x Monthly unpaid balance)"
   ]
  },
  {
   "cell_type": "code",
   "execution_count": 6,
   "metadata": {},
   "outputs": [
    {
     "name": "stdout",
     "output_type": "stream",
     "text": [
      "Lowest Payment: 310\n",
      "Lowest Payment: 440\n"
     ]
    }
   ],
   "source": [
    "def lowestPayment(balance,annualInterestRate,minMonthlyPayment):\n",
    "    new_balance = balance\n",
    "    monthlyInterestRate = annualInterestRate/12.0\n",
    "    monthlyPayment = 0\n",
    "    while new_balance > 0:\n",
    "        monthlyPayment += minMonthlyPayment\n",
    "        new_balance = balance\n",
    "\n",
    "        for month in range(1,13):\n",
    "            new_balance -= monthlyPayment\n",
    "            new_balance += monthlyInterestRate*new_balance\n",
    "    return print('Lowest Payment:',round(monthlyPayment))\n",
    "\n",
    "#let's test the function\n",
    "lowestPayment(3329,0.2,10)\n",
    "lowestPayment(4773,0.2,10)"
   ]
  },
  {
   "cell_type": "code",
   "execution_count": 2,
   "metadata": {},
   "outputs": [
    {
     "name": "stdout",
     "output_type": "stream",
     "text": [
      " Lowest Payment: 310\n"
     ]
    }
   ],
   "source": [
    "#as EDX wants:\n",
    "balance = 3329\n",
    "annualInterestRate = 0.2\n",
    "monthlyPayment = 0\n",
    "monthlyInterestRate = annualInterestRate /12\n",
    "new_balance = balance\n",
    "\n",
    "while new_balance > 0:\n",
    "    monthlyPayment += 10\n",
    "    new_balance = balance\n",
    "\n",
    "    for month in range(1,13):\n",
    "        new_balance -= monthlyPayment\n",
    "        new_balance += monthlyInterestRate * new_balance\n",
    "print(\" Lowest Payment:\", round(monthlyPayment))"
   ]
  },
  {
   "cell_type": "code",
   "execution_count": null,
   "metadata": {},
   "outputs": [],
   "source": []
  }
 ],
 "metadata": {
  "kernelspec": {
   "display_name": "Python 3",
   "language": "python",
   "name": "python3"
  },
  "language_info": {
   "codemirror_mode": {
    "name": "ipython",
    "version": 3
   },
   "file_extension": ".py",
   "mimetype": "text/x-python",
   "name": "python",
   "nbconvert_exporter": "python",
   "pygments_lexer": "ipython3",
   "version": "3.7.1"
  }
 },
 "nbformat": 4,
 "nbformat_minor": 2
}
