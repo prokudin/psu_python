{
 "cells": [
  {
   "cell_type": "code",
   "execution_count": 1,
   "metadata": {
    "collapsed": false
   },
   "outputs": [
    {
     "name": "stdout",
     "output_type": "stream",
     "text": [
      "Lowest Payment: 451.63\n"
     ]
    }
   ],
   "source": [
    "balance = 5000\n",
    "annualInterestRate = 0.18\n",
    "epsilon = .01\n",
    "\n",
    "low = balance/12\n",
    "high = (balance*(1+annualInterestRate)**12) / 12.0\n",
    "\n",
    "guess = (low + high)/2\n",
    "remain = balance\n",
    "\n",
    "while(remain >= epsilon):\n",
    "    \n",
    "    guess = (low + high)/2\n",
    "    \n",
    "    for i in range(1,13):\n",
    "       \n",
    "        nBalance = remain - guess\n",
    "        monthInterest = annualInterestRate/12 * nBalance\n",
    "        remain = nBalance + monthInterest\n",
    "        \n",
    "    if remain < 0:    # paying to much per month\n",
    "        high = guess\n",
    "        remain = balance\n",
    "        \n",
    "    elif remain > epsilon: # paying to little per month\n",
    "        low = guess\n",
    "        remain = balance\n",
    "\n",
    "guess = round(guess, 2)\n",
    "print('Lowest Payment: '  + str(guess))"
   ]
  },
  {
   "cell_type": "code",
   "execution_count": null,
   "metadata": {
    "collapsed": true
   },
   "outputs": [],
   "source": []
  }
 ],
 "metadata": {
  "anaconda-cloud": {},
  "kernelspec": {
   "display_name": "Python [default]",
   "language": "python",
   "name": "python2"
  },
  "language_info": {
   "codemirror_mode": {
    "name": "ipython",
    "version": 2
   },
   "file_extension": ".py",
   "mimetype": "text/x-python",
   "name": "python",
   "nbconvert_exporter": "python",
   "pygments_lexer": "ipython2",
   "version": "2.7.12"
  }
 },
 "nbformat": 4,
 "nbformat_minor": 2
}
