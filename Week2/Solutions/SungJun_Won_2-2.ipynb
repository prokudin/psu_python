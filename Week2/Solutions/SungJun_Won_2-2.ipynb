{
 "cells": [
  {
   "cell_type": "code",
   "execution_count": 1,
   "metadata": {},
   "outputs": [
    {
     "name": "stdout",
     "output_type": "stream",
     "text": [
      "Lowest Payment: 310\n"
     ]
    }
   ],
   "source": [
    "\"\"\"\n",
    "Created on Sun Feb  3 01:08:15 2019\n",
    "\n",
    "@author: Sean Won\n",
    "\"\"\"\n",
    "\n",
    "balance = 3329\n",
    "annualInterestRate = 0.2\n",
    "newBalance = balance\n",
    "mIR = annualInterestRate / 12.0\n",
    "episilon = 0.001\n",
    "minMonPay = 0\n",
    "while newBalance >= 0:\n",
    "    newBalance = balance\n",
    "    unpaidBalance = 0\n",
    "    for month in range(12):\n",
    "        unpaidBalance = newBalance - minMonPay\n",
    "        newBalance = unpaidBalance + (mIR*unpaidBalance)\n",
    "    minMonPay += 10\n",
    "    \n",
    "print(\"Lowest Payment: \" + str(minMonPay - 10))"
   ]
  },
  {
   "cell_type": "code",
   "execution_count": null,
   "metadata": {},
   "outputs": [],
   "source": []
  }
 ],
 "metadata": {
  "kernelspec": {
   "display_name": "Python 2",
   "language": "python",
   "name": "python2"
  },
  "language_info": {
   "codemirror_mode": {
    "name": "ipython",
    "version": 2
   },
   "file_extension": ".py",
   "mimetype": "text/x-python",
   "name": "python",
   "nbconvert_exporter": "python",
   "pygments_lexer": "ipython2",
   "version": "2.7.14"
  }
 },
 "nbformat": 4,
 "nbformat_minor": 2
}
