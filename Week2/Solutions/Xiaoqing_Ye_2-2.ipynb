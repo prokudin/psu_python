{
 "cells": [
  {
   "cell_type": "code",
   "execution_count": 1,
   "metadata": {
    "collapsed": false
   },
   "outputs": [
    {
     "name": "stdout",
     "output_type": "stream",
     "text": [
      "Lowest Payment: 310\n"
     ]
    }
   ],
   "source": [
    "balance = 3329\n",
    "initialbalance = balance\n",
    "annualInterestRate = 0.2\n",
    "monthlyInterestRate = annualInterestRate / 12.0\n",
    "minMonthlyPayment = 10\n",
    "while balance > 0:\n",
    "    month = 0\n",
    "    while month < 12:\n",
    "        monthlyUnpaidBalance = balance - minMonthlyPayment\n",
    "        balance = monthlyUnpaidBalance + (monthlyInterestRate * monthlyUnpaidBalance)\n",
    "        month += 1  \n",
    "    if balance > 0:\n",
    "        minMonthlyPayment += 10\n",
    "        balance = initialbalance   \n",
    "print(\"Lowest Payment: \" + str(minMonthlyPayment))"
   ]
  },
  {
   "cell_type": "code",
   "execution_count": null,
   "metadata": {
    "collapsed": true
   },
   "outputs": [],
   "source": []
  }
 ],
 "metadata": {
  "anaconda-cloud": {},
  "kernelspec": {
   "display_name": "Python [default]",
   "language": "python",
   "name": "python2"
  },
  "language_info": {
   "codemirror_mode": {
    "name": "ipython",
    "version": 2
   },
   "file_extension": ".py",
   "mimetype": "text/x-python",
   "name": "python",
   "nbconvert_exporter": "python",
   "pygments_lexer": "ipython2",
   "version": "2.7.12"
  }
 },
 "nbformat": 4,
 "nbformat_minor": 2
}
