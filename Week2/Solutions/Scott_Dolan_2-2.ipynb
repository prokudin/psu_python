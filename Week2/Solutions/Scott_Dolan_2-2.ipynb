{
 "cells": [
  {
   "cell_type": "code",
   "execution_count": 1,
   "metadata": {},
   "outputs": [],
   "source": [
    "balance = 3329; annualInterestRate = 0.2\n",
    "\n",
    "def get_out_of_debt(balance,annualInterestRate):\n",
    "    monthlyPayment = 10\n",
    "    mIR = annualInterestRate/12.0\n",
    "    og = balance\n",
    "    x = 1\n",
    "    while x != 0:\n",
    "        balance = og\n",
    "        unpaid = balance \n",
    "        for i in range(0,12,1):\t      \n",
    "            unpaid = balance - monthlyPayment\n",
    "            balance = unpaid + mIR*unpaid\n",
    "        if balance < 0:\n",
    "            x = 0\n",
    "        else:\n",
    "            monthlyPayment += 10\n",
    "    print('Lowest payment: ' + str(monthlyPayment))"
   ]
  },
  {
   "cell_type": "code",
   "execution_count": 2,
   "metadata": {},
   "outputs": [
    {
     "name": "stdout",
     "output_type": "stream",
     "text": [
      "Lowest payment: 310\n"
     ]
    }
   ],
   "source": [
    "get_out_of_debt(balance,annualInterestRate)"
   ]
  },
  {
   "cell_type": "code",
   "execution_count": null,
   "metadata": {},
   "outputs": [],
   "source": []
  }
 ],
 "metadata": {
  "kernelspec": {
   "display_name": "Python 2",
   "language": "python",
   "name": "python2"
  },
  "language_info": {
   "codemirror_mode": {
    "name": "ipython",
    "version": 2
   },
   "file_extension": ".py",
   "mimetype": "text/x-python",
   "name": "python",
   "nbconvert_exporter": "python",
   "pygments_lexer": "ipython2",
   "version": "2.7.14"
  }
 },
 "nbformat": 4,
 "nbformat_minor": 2
}
