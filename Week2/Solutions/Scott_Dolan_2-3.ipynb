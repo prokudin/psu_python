{
 "cells": [
  {
   "cell_type": "markdown",
   "metadata": {},
   "source": [
    "__Monthly interest rate = (Annual interest rate) / 12.0  \n",
    "Monthly payment lower bound = Balance / 12  \n",
    "Monthly payment upper bound = (Balance x (1 + Monthly interest rate)12) / 12.0__  \n"
   ]
  },
  {
   "cell_type": "code",
   "execution_count": 21,
   "metadata": {},
   "outputs": [],
   "source": [
    "#Test Case 1:\n",
    "\n",
    "balance = 999999\n",
    "annualInterestRate = 0.18\n",
    "epsilon = 0.01\n",
    "\n",
    "#Result Your Code Should Generate:\n",
    "#-------------------\n",
    "#Lowest Payment: 90325.03\n",
    "\n",
    "def optimize_payment(balance,epsilon,annualInterestRate):\n",
    "    \"\"\"    \n",
    "    This function takes three inputs:\n",
    "    balance - The balance you currently have in dollars\n",
    "    epsilon - Needs to be a positive number and the smaller the value \n",
    "              the higher the accuracy of the return\n",
    "    annualInterestRate - The annual interest rate for the account the \n",
    "                         balance is in\n",
    "    This function prints and also returns the value for the monthly payment that will \n",
    "    zero out your account in one year\n",
    "           \"\"\"\n",
    "    Monthly_interest_rate = annualInterestRate/12.0\n",
    "    upper = (balance*(1+Monthly_interest_rate)**12)/12.0\n",
    "    lower = balance/12\n",
    "    original_balance = balance\n",
    "    iterations = 0\n",
    "    while abs(balance) >= epsilon:\n",
    "        balance = original_balance\n",
    "        unpaid = balance\n",
    "        monthly_Payment = (lower + upper)/2\n",
    "        for i in range(0,12,1):\n",
    "            unpaid = balance - monthly_Payment\n",
    "            balance = unpaid + Monthly_interest_rate*unpaid\n",
    "            iterations += 1\n",
    "        if balance < 0:\n",
    "            upper = monthly_Payment\n",
    "            iterations += 1\n",
    "        else:\n",
    "            lower = monthly_Payment\n",
    "            iterations += 1\n",
    "    print('Lowest Payment: $'+str(round(monthly_Payment,2)))\n",
    "    print('It took '+str(iterations)+' iterations to calculate this solution')\n",
    "    return round(monthly_Payment,2)"
   ]
  },
  {
   "cell_type": "code",
   "execution_count": 22,
   "metadata": {},
   "outputs": [
    {
     "name": "stdout",
     "output_type": "stream",
     "text": [
      "Lowest Payment: $90325.03\n",
      "It took 273 iterations to calculate this solution\n"
     ]
    }
   ],
   "source": [
    "good_idea = optimize_payment(balance,epsilon,annualInterestRate)"
   ]
  },
  {
   "cell_type": "code",
   "execution_count": 23,
   "metadata": {},
   "outputs": [
    {
     "name": "stdout",
     "output_type": "stream",
     "text": [
      "If I pay $90325.03 per month I will pay off the initial balance in one year which might a good idea.\n"
     ]
    }
   ],
   "source": [
    "print('If I pay $' + str(good_idea) + ' per month I will pay off the initial balance in one year which might a good idea.')"
   ]
  },
  {
   "cell_type": "code",
   "execution_count": null,
   "metadata": {},
   "outputs": [],
   "source": []
  }
 ],
 "metadata": {
  "kernelspec": {
   "display_name": "Python 2",
   "language": "python",
   "name": "python2"
  },
  "language_info": {
   "codemirror_mode": {
    "name": "ipython",
    "version": 2
   },
   "file_extension": ".py",
   "mimetype": "text/x-python",
   "name": "python",
   "nbconvert_exporter": "python",
   "pygments_lexer": "ipython2",
   "version": "2.7.14"
  }
 },
 "nbformat": 4,
 "nbformat_minor": 2
}
