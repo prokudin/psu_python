{
 "cells": [
  {
   "cell_type": "code",
   "execution_count": 21,
   "metadata": {},
   "outputs": [],
   "source": [
    "#Monthly interest rate = (Annual interest rate) / 12.0\n",
    "#Monthly payment lower bound = Balance / 12\n",
    "#Monthly payment upper bound = (Balance x (1 + Monthly interest rate)12) / 12.0 \n",
    "\n",
    "#Test Case 1:\n",
    "balance = 999999\n",
    "annualInterestRate = 0.18\n",
    "epsilon = 0.01\n",
    "\n",
    "#Result Your Code Should Generate:\n",
    "#-------------------\n",
    "#Lowest Payment: 90325.03\n",
    "def optimize_payment(balance,epsilon,annualInterestRate):\n",
    "    Monthly_interest_rate = annualInterestRate/12.0\n",
    "    upper = (balance*(1+Mir)**12)/12.0\n",
    "    lower = balance/12\n",
    "    original_balance = balance\n",
    "    monthly_Payment = (upper + lower)/2\n",
    "    iterations = 0\n",
    "\n",
    "    while abs(balance) >= epsilon:\n",
    "        balance = original_balance\n",
    "        unpaid = balance\n",
    "        for i in range(0,12,1):\n",
    "            unpaid = balance - monthly_Payment\n",
    "            balance = unpaid + Monthly_interest_rate*unpaid\n",
    "        if balance < 0:\n",
    "            upper = monthly_Payment\n",
    "            monthly_Payment = (lower + upper)/2\n",
    "            iterations += 1\n",
    "        else:\n",
    "            lower = monthly_Payment\n",
    "            monthly_Payment = (lower + upper)/2\n",
    "            iterations += 1\n",
    "    print('Lowest Payment: '+str(round(monthly_Payment,2)))\n",
    "    print('It took '+str(iterations)+' iterations to calculate this solution')"
   ]
  },
  {
   "cell_type": "code",
   "execution_count": 22,
   "metadata": {},
   "outputs": [
    {
     "name": "stdout",
     "output_type": "stream",
     "text": [
      "Lowest Payment: 90325.03\n",
      "It took 21 iterations to calculate this solution\n"
     ]
    }
   ],
   "source": [
    "optimize_payment(balance,epsilon,annualInterestRate)"
   ]
  },
  {
   "cell_type": "code",
   "execution_count": null,
   "metadata": {},
   "outputs": [],
   "source": []
  }
 ],
 "metadata": {
  "kernelspec": {
   "display_name": "Python 2",
   "language": "python",
   "name": "python2"
  },
  "language_info": {
   "codemirror_mode": {
    "name": "ipython",
    "version": 2
   },
   "file_extension": ".py",
   "mimetype": "text/x-python",
   "name": "python",
   "nbconvert_exporter": "python",
   "pygments_lexer": "ipython2",
   "version": "2.7.14"
  }
 },
 "nbformat": 4,
 "nbformat_minor": 2
}
