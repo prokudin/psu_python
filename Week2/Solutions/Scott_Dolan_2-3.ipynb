{
 "cells": [
  {
   "cell_type": "markdown",
   "metadata": {},
   "source": [
    "$ \\begin{equation}\n",
    " \\begin{aligned}\n",
    " \\bf Monthly interest rate &= \\bf \\frac {Annual interest rate}{12.0} \\\\\n",
    " \\bf Monthly payment lower bound &= \\bf \\frac {Balance}{number of years \\times 12} \\\\\n",
    " \\bf Monthly payment upper bound &= \\bf \\frac {Balance \\times (1 + Monthly interest rate)^{12 \\times number of years}}{12.0 \\times number of years} \\\\\n",
    "\\end{aligned}\n",
    "\\end{equation}$"
   ]
  },
  {
   "cell_type": "code",
   "execution_count": 1,
   "metadata": {},
   "outputs": [],
   "source": [
    "\"\"\"\n",
    "Created on Mon Feb  4 17:39:17 2019\n",
    "\"\"\"\n",
    "\n",
    "#Test Case 1:\n",
    "\n",
    "balance = 999999\n",
    "annualInterestRate = 0.18\n",
    "epsilon = 0.01\n",
    "num_year = 1\n",
    "\n",
    "#Result Your Code Should Generate:\n",
    "#-------------------\n",
    "#Lowest Payment: 90325.03\n",
    "\n",
    "def optimize_payment(balance,epsilon,annualInterestRate,num_year=1):\n",
    "    \"\"\"    \n",
    "    This function takes four inputs:\n",
    "    balance - The balance you currently have in dollars\n",
    "    epsilon - Needs to be a positive number and the smaller the value \n",
    "              the higher the accuracy of the return\n",
    "    annualInterestRate - The annual interest rate for the account the \n",
    "                         balance is in\n",
    "    num_year - The number of years you would like to pay the balance off in, default = 1\n",
    "    This function prints and also returns the value for the monthly payment that will \n",
    "    zero out your account in one year\n",
    "           \"\"\"\n",
    "    Monthly_interest_rate = annualInterestRate/12.0\n",
    "    upper = (balance*(1+Monthly_interest_rate)**(12.0*num_year))/(12.0*num_year)\n",
    "    lower = balance/(num_year*12.0)\n",
    "    original_balance = balance\n",
    "    iterations = 0\n",
    "    \n",
    "    while abs(balance) >= epsilon:\n",
    "        balance = original_balance\n",
    "        unpaid = balance\n",
    "        monthly_Payment = (lower + upper)/2\n",
    "        months = num_year*12\n",
    "        for i in range(0,months,1):\n",
    "            unpaid = balance - monthly_Payment\n",
    "            balance = unpaid + Monthly_interest_rate*unpaid\n",
    "        if balance < 0:\n",
    "            upper = monthly_Payment\n",
    "            iterations += 1\n",
    "        else:\n",
    "            lower = monthly_Payment\n",
    "            iterations += 1\n",
    "    print('Lowest Payment: $'+str(round(monthly_Payment,2)))\n",
    "    print('It took '+str(iterations)+' iterations to calculate this solution')\n",
    "    return round(monthly_Payment,2)"
   ]
  },
  {
   "cell_type": "code",
   "execution_count": 26,
   "metadata": {
    "scrolled": true
   },
   "outputs": [
    {
     "name": "stdout",
     "output_type": "stream",
     "text": [
      "Lowest Payment: $16384.23\n",
      "It took 29 iterations to calculate this solution\n"
     ]
    }
   ],
   "source": [
    "balance = 999999\n",
    "annualInterestRate = 0.18\n",
    "epsilon = 0.01\n",
    "num_year = 13\n",
    "good_idea = optimize_payment(balance,epsilon,annualInterestRate,num_year)"
   ]
  },
  {
   "cell_type": "code",
   "execution_count": 27,
   "metadata": {},
   "outputs": [
    {
     "name": "stdout",
     "output_type": "stream",
     "text": [
      "If I pay $16384.23 per month I will pay off the initial balance in 13 year(s) which might be a good idea.\n"
     ]
    }
   ],
   "source": [
    "print('If I pay $' + str(good_idea) + ' per month I will pay off the initial balance in ' \n",
    "      + str(num_year) + ' year(s) which might be a good idea.')"
   ]
  },
  {
   "cell_type": "code",
   "execution_count": null,
   "metadata": {},
   "outputs": [],
   "source": []
  }
 ],
 "metadata": {
  "kernelspec": {
   "display_name": "Python 2",
   "language": "python",
   "name": "python2"
  },
  "language_info": {
   "codemirror_mode": {
    "name": "ipython",
    "version": 2
   },
   "file_extension": ".py",
   "mimetype": "text/x-python",
   "name": "python",
   "nbconvert_exporter": "python",
   "pygments_lexer": "ipython2",
   "version": "2.7.14"
  }
 },
 "nbformat": 4,
 "nbformat_minor": 2
}
