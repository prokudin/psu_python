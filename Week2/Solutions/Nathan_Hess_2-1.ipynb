{
 "cells": [
  {
   "cell_type": "code",
   "execution_count": 1,
   "metadata": {
    "collapsed": false
   },
   "outputs": [
    {
     "name": "stdout",
     "output_type": "stream",
     "text": [
      "The remaining balance after 1 year of payments is: 4691.1\n"
     ]
    }
   ],
   "source": [
    "balance = 5000.0\n",
    "annualInterestRate = 0.18\n",
    "monthlyPaymentRate = 0.02\n",
    "\n",
    "month = 0\n",
    "\n",
    "for month in range(0,12,1):\n",
    "    \n",
    "    balance = balance - monthlyPaymentRate*balance\n",
    "   \n",
    "    balance = balance + (balance*annualInterestRate/12.0)\n",
    "    \n",
    "    balance = round(balance, 2)\n",
    "    \n",
    "    #print('For month ' + str(month) + ' the remaining balance is: ' + str(balance))\n",
    "    month += 1\n",
    "    \n",
    "print('The remaining balance after 1 year of payments is: ' + str(balance))"
   ]
  },
  {
   "cell_type": "code",
   "execution_count": null,
   "metadata": {
    "collapsed": true
   },
   "outputs": [],
   "source": []
  }
 ],
 "metadata": {
  "anaconda-cloud": {},
  "kernelspec": {
   "display_name": "Python [default]",
   "language": "python",
   "name": "python2"
  },
  "language_info": {
   "codemirror_mode": {
    "name": "ipython",
    "version": 2
   },
   "file_extension": ".py",
   "mimetype": "text/x-python",
   "name": "python",
   "nbconvert_exporter": "python",
   "pygments_lexer": "ipython2",
   "version": "2.7.12"
  }
 },
 "nbformat": 4,
 "nbformat_minor": 2
}
