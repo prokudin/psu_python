{
 "cells": [
  {
   "cell_type": "code",
   "execution_count": 1,
   "metadata": {
    "collapsed": false
   },
   "outputs": [
    {
     "name": "stdout",
     "output_type": "stream",
     "text": [
      "Lowest payement:430\n"
     ]
    }
   ],
   "source": [
    "balance = 5000\n",
    "annualInterestRate = 0.18\n",
    "\n",
    "monthlyPayment= 10\n",
    "nBalance = balance - 10\n",
    "\n",
    "\n",
    "while nBalance > 0:\n",
    "    monthlyPayment += 10\n",
    "    nBalance = balance\n",
    "    month = 0\n",
    "    \n",
    "    while nBalance > 0 and month <= 12:\n",
    "        \n",
    "        month += 1\n",
    "        interest = (annualInterestRate/12) * nBalance\n",
    "        nBalance -= monthlyPayment\n",
    "        nBalance += interest\n",
    "        \n",
    "        \n",
    "nBalance = round(nBalance, 2)\n",
    "\n",
    "print('Lowest payement:' + str(monthlyPayment))"
   ]
  },
  {
   "cell_type": "code",
   "execution_count": null,
   "metadata": {
    "collapsed": true
   },
   "outputs": [],
   "source": []
  }
 ],
 "metadata": {
  "anaconda-cloud": {},
  "kernelspec": {
   "display_name": "Python [default]",
   "language": "python",
   "name": "python2"
  },
  "language_info": {
   "codemirror_mode": {
    "name": "ipython",
    "version": 2
   },
   "file_extension": ".py",
   "mimetype": "text/x-python",
   "name": "python",
   "nbconvert_exporter": "python",
   "pygments_lexer": "ipython2",
   "version": "2.7.12"
  }
 },
 "nbformat": 4,
 "nbformat_minor": 2
}
