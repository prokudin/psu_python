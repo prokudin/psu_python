{
 "cells": [
  {
   "cell_type": "markdown",
   "metadata": {},
   "source": [
    "Problem 3 - Using Bisection Search to Make the Program Faster\n",
    "\n",
    "You'll notice that in Problem 2, your monthly payment had to be a multiple of $10$. Why did we make it that way? You can try running your code locally so that the payment can be any dollar and cent amount (in other words, the monthly payment is a multiple of $0.01$). Does your code still work? It should, but you may notice that your code runs more slowly, especially in cases with very large balances and interest rates. (Note: when your code is running on our servers, there are limits on the amount of computing time each submission is allowed, so your observations from running this experiment on the grading system might be limited to an error message complaining about too much time taken.)\n",
    "\n",
    "Well then, how can we calculate a more accurate fixed monthly payment than we did in Problem 2 without running into the problem of slow code? We can make this program run faster using a technique introduced in lecture - bisection search!\n",
    "\n",
    "The following variables contain values as described below:\n",
    "\n",
    "balance - the outstanding balance on the credit card\n",
    "\n",
    "annualInterestRate - annual interest rate as a decimal\n",
    "\n",
    "To recap the problem: we are searching for the smallest monthly payment such that we can pay off the entire balance within a year. What is a reasonable lower bound for this payment value? $0$ is the obvious anwer, but you can do better than that. If there was no interest, the debt can be paid off by monthly payments of one-twelfth of the original balance, so we must pay at least this much every month. One-twelfth of the original balance is a good lower bound.\n",
    "\n",
    "What is a good upper bound? Imagine that instead of paying monthly, we paid off the entire balance at the end of the year. What we ultimately pay must be greater than what we would've paid in monthly installments, because the interest was compounded on the balance we didn't pay off each month. So a good upper bound for the monthly payment would be one-twelfth of the balance, after having its interest compounded monthly for an entire year.\n",
    "\n",
    "In short:\n",
    "\n",
    "Monthly interest rate = (Annual interest rate) / 12.0\n",
    "\n",
    "Monthly payment lower bound = Balance / 12\n",
    "\n",
    "Monthly payment upper bound = (Balance x (1 + Monthly interest rate)^12) / 12.0\n",
    "\n",
    "Write a program that uses these bounds and bisection search (for more info check out the Wikipedia page on bisection search) to find the smallest monthly payment to the cent (no more multiples of $10$) such that we can pay off the debt within a year. Try it out with large inputs, and notice how fast it is (try the same large inputs in your solution to Problem 2 to compare!). Produce the same return value as you did in Problem 2.\n",
    "\n",
    "Note that if you do not use bisection search, your code will not run - your code only has 30 seconds to run on our servers."
   ]
  },
  {
   "cell_type": "code",
   "execution_count": 1,
   "metadata": {},
   "outputs": [
    {
     "name": "stdout",
     "output_type": "stream",
     "text": [
      "Lowest Payment: 29157.09\n",
      "Lowest Payment: 90325.03\n"
     ]
    }
   ],
   "source": [
    "def bisectLowPayment(balance,annualInterestRate):\n",
    "    monthlyInterestRate = annualInterestRate / 12\n",
    "    min = balance / 12\n",
    "    max = (balance * (1 + monthlyInterestRate)**12) / 12.0\n",
    "    payment = (min + max)/2\n",
    "    remain = balance #no payment yet\n",
    "    eps = 0.01  #we want to round at 0.01$\n",
    "    while (remain >= eps):\n",
    "        for month in range (1,13):\n",
    "            new_balance = remain - payment\n",
    "            monthInterest = annualInterestRate/12*new_balance\n",
    "            remain = new_balance+monthInterest\n",
    "            # let's check what is left\n",
    "        if (remain < 0): \n",
    "            max = payment     \n",
    "            remain = balance #I reset the balance to start again w/ different max\n",
    "        elif (remain > eps): \n",
    "            min = payment\n",
    "            remain = balance #I reset the balance to start again w/ different min   \n",
    "        payment = (min + max)/2\n",
    "    return print(\"Lowest Payment:\",round(payment,2))\n",
    "\n",
    "#let's test the function\n",
    "bisectLowPayment(320000,0.2)\n",
    "bisectLowPayment(999999,0.18)"
   ]
  },
  {
   "cell_type": "markdown",
   "metadata": {},
   "source": [
    "As EDX wants, no function but just the code:"
   ]
  },
  {
   "cell_type": "code",
   "execution_count": 1,
   "metadata": {},
   "outputs": [
    {
     "name": "stdout",
     "output_type": "stream",
     "text": [
      "Lowest Payment: 90325.03\n"
     ]
    }
   ],
   "source": [
    "balance = 999999\n",
    "annualInterestRate = 0.18\n",
    "\n",
    "monthlyInterestRate = annualInterestRate / 12\n",
    "min = balance / 12\n",
    "max = (balance * (1 + monthlyInterestRate)**12) / 12.0\n",
    "payment = (min + max)/2\n",
    "remain = balance #no payment yet\n",
    "eps = 0.01  #we want to round at 0.01$\n",
    "while (remain >= eps):\n",
    "    for month in range (1,13):\n",
    "        new_balance = remain - payment\n",
    "        monthInterest = annualInterestRate/12*new_balance\n",
    "        remain = new_balance+monthInterest\n",
    "        # let's check what is left\n",
    "    if (remain < 0): \n",
    "        max = payment     \n",
    "        remain = balance #I reset the balance to start again w/ different max\n",
    "    elif (remain > eps): \n",
    "        min = payment\n",
    "        remain = balance #I reset the balance to start again w/ different min   \n",
    "    payment = (min + max)/2\n",
    "print(\"Lowest Payment:\",round(payment,2))"
   ]
  },
  {
   "cell_type": "code",
   "execution_count": null,
   "metadata": {},
   "outputs": [],
   "source": []
  }
 ],
 "metadata": {
  "kernelspec": {
   "display_name": "Python 3",
   "language": "python",
   "name": "python3"
  },
  "language_info": {
   "codemirror_mode": {
    "name": "ipython",
    "version": 3
   },
   "file_extension": ".py",
   "mimetype": "text/x-python",
   "name": "python",
   "nbconvert_exporter": "python",
   "pygments_lexer": "ipython3",
   "version": "3.7.1"
  }
 },
 "nbformat": 4,
 "nbformat_minor": 2
}
