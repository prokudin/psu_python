{
 "cells": [
  {
   "cell_type": "code",
   "execution_count": 1,
   "metadata": {},
   "outputs": [
    {
     "name": "stdout",
     "output_type": "stream",
     "text": [
      "Remaining balance: 361.61\n"
     ]
    }
   ],
   "source": [
    "\"\"\"\n",
    "Created on Fri Feb  1 13:39:25 2019\n",
    "\n",
    "@author: Sean Won\n",
    "\"\"\"\n",
    "balance = 484\n",
    "annualInterestRate = 0.2\n",
    "monthlyPaymentRate = 0.04\n",
    "mIR = annualInterestRate / 12.0\n",
    "minMonPay = 0\n",
    "for month in range(12):\n",
    "    minMonPay = balance * monthlyPaymentRate\n",
    "    unpaidBalance = balance - minMonPay\n",
    "    balance = unpaidBalance + (mIR*unpaidBalance)\n",
    "print(\"Remaining balance: \" + str(round(balance,2)))"
   ]
  },
  {
   "cell_type": "code",
   "execution_count": null,
   "metadata": {},
   "outputs": [],
   "source": []
  }
 ],
 "metadata": {
  "kernelspec": {
   "display_name": "Python 2",
   "language": "python",
   "name": "python2"
  },
  "language_info": {
   "codemirror_mode": {
    "name": "ipython",
    "version": 2
   },
   "file_extension": ".py",
   "mimetype": "text/x-python",
   "name": "python",
   "nbconvert_exporter": "python",
   "pygments_lexer": "ipython2",
   "version": "2.7.14"
  }
 },
 "nbformat": 4,
 "nbformat_minor": 2
}
