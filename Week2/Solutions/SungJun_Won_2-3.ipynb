{
 "cells": [
  {
   "cell_type": "code",
   "execution_count": 1,
   "metadata": {},
   "outputs": [
    {
     "name": "stdout",
     "output_type": "stream",
     "text": [
      "Lowest Payment: 29157.09\n"
     ]
    }
   ],
   "source": [
    "\"\"\"\n",
    "Created on Sat Feb  2 23:20:42 2019\n",
    "\n",
    "@author: Sean Won\n",
    "\"\"\"\n",
    "balance = 320000\n",
    "annualInterestRate = 0.2\n",
    "newBalance = balance\n",
    "mIR = annualInterestRate / 12.0\n",
    "minMonPay = balance / 12.0\n",
    "maxMonPay = (balance *((1 + mIR)**12))/12.0\n",
    "episilon = 0.1\n",
    "monthlyPay = (minMonPay + maxMonPay)/2.0\n",
    "while abs((maxMonPay-minMonPay)) >= episilon:\n",
    "    newBalance = balance\n",
    "    unpaidBalance = 0\n",
    "    for month in range(12):\n",
    "        unpaidBalance = newBalance - monthlyPay\n",
    "        newBalance = unpaidBalance + (mIR*unpaidBalance)\n",
    "    if newBalance >= 0: \n",
    "        minMonPay = monthlyPay\n",
    "    else:\n",
    "        maxMonPay = monthlyPay\n",
    "    monthlyPay = (minMonPay + maxMonPay)/2.0\n",
    "print(\"Lowest Payment: \" + str(round(monthlyPay,2)))"
   ]
  },
  {
   "cell_type": "code",
   "execution_count": null,
   "metadata": {},
   "outputs": [],
   "source": []
  }
 ],
 "metadata": {
  "kernelspec": {
   "display_name": "Python 2",
   "language": "python",
   "name": "python2"
  },
  "language_info": {
   "codemirror_mode": {
    "name": "ipython",
    "version": 2
   },
   "file_extension": ".py",
   "mimetype": "text/x-python",
   "name": "python",
   "nbconvert_exporter": "python",
   "pygments_lexer": "ipython2",
   "version": "2.7.14"
  }
 },
 "nbformat": 4,
 "nbformat_minor": 2
}
