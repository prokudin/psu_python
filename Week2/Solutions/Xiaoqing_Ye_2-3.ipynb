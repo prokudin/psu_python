{
 "cells": [
  {
   "cell_type": "code",
   "execution_count": 1,
   "metadata": {
    "collapsed": false
   },
   "outputs": [
    {
     "name": "stdout",
     "output_type": "stream",
     "text": [
      "Lowest Payment: 29157.09\n"
     ]
    }
   ],
   "source": [
    "balance = 320000\n",
    "initialbalance = balance\n",
    "annualInterestRate = 0.2\n",
    "monInterestRate = annualInterestRate / 12\n",
    "monPayLowerBound = balance / 12\n",
    "monPayUpperBound = (balance * (1 + monInterestRate)**12) / 12\n",
    "minMonPay = (monPayLowerBound + monPayUpperBound) / 2\n",
    "epsilon = 0.01\n",
    "while abs(monPayLowerBound - monPayUpperBound) >= epsilon:\n",
    "    month = 0\n",
    "    minMonPay = (monPayLowerBound + monPayUpperBound) / 2\n",
    "    while month < 12:\n",
    "        monthlyUnpaidBalance = balance - minMonPay\n",
    "        balance = monthlyUnpaidBalance + (monInterestRate * monthlyUnpaidBalance)\n",
    "        month += 1\n",
    "    #if abs(balance) <= epsilon:\n",
    "        #continue\n",
    "    if balance > 0:\n",
    "        monPayLowerBound = minMonPay\n",
    "        balance = initialbalance \n",
    "    elif balance < 0:\n",
    "        monPayUpperBound = minMonPay\n",
    "        balance = initialbalance\n",
    "print(\"Lowest Payment: \" + str(round(minMonPay,2)))"
   ]
  },
  {
   "cell_type": "code",
   "execution_count": null,
   "metadata": {
    "collapsed": true
   },
   "outputs": [],
   "source": []
  }
 ],
 "metadata": {
  "anaconda-cloud": {},
  "kernelspec": {
   "display_name": "Python [default]",
   "language": "python",
   "name": "python2"
  },
  "language_info": {
   "codemirror_mode": {
    "name": "ipython",
    "version": 2
   },
   "file_extension": ".py",
   "mimetype": "text/x-python",
   "name": "python",
   "nbconvert_exporter": "python",
   "pygments_lexer": "ipython2",
   "version": "2.7.12"
  }
 },
 "nbformat": 4,
 "nbformat_minor": 2
}
