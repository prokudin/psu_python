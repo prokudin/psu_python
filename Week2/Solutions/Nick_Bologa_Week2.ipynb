{
 "cells": [
  {
   "cell_type": "code",
   "execution_count": null,
   "metadata": {},
   "outputs": [],
   "source": [
    "#Nick Bologa Week 2"
   ]
  },
  {
   "cell_type": "code",
   "execution_count": 16,
   "metadata": {},
   "outputs": [
    {
     "name": "stdout",
     "output_type": "stream",
     "text": [
      "Remaining balance: 4716.85\n"
     ]
    }
   ],
   "source": [
    "#Problem 1\n",
    "\n",
    "balance = 10000.0\n",
    "annualInterestRate = 0.12\n",
    "monthlyPaymentRate = 0.07\n",
    "month = 0\n",
    "\n",
    "monthlyInterestRate = annualInterestRate / 12.0\n",
    "\n",
    "for month in range(0, 12):\n",
    "    monthlyPayment = balance * (monthlyPaymentRate)\n",
    "    unpaidBalance = balance - monthlyPayment\n",
    "    balance = unpaidBalance + unpaidBalance*(monthlyInterestRate)       \n",
    "\n",
    "print(\"Remaining balance: \"+str(round(balance,2)))\n",
    "\n",
    "\n"
   ]
  },
  {
   "cell_type": "code",
   "execution_count": null,
   "metadata": {},
   "outputs": [],
   "source": [
    "#Problem 2 \n",
    "    \n",
    "while balance > 0:\n",
    "    for i in range(12):\n",
    "        balance = balance - monthlyPaymentRate + ((balance - monthlyPaymentRate) * monthlyInterestRate)\n",
    "    if balance > 0:\n",
    "        monthlyPaymentRate += 10\n",
    "    elif balance <= 0:\n",
    "        break\n",
    "print('Lowest Payment:', monthlyPaymentRate)\n"
   ]
  },
  {
   "cell_type": "code",
   "execution_count": null,
   "metadata": {},
   "outputs": [],
   "source": [
    "#Problem 3\n",
    "\n",
    "monthlyInterestRate = annualInterestRate / 12.0\n",
    "\n",
    "low = balance / 12\n",
    "high = (balance * (1 + annualInterestRate)**12 ) / 12\n",
    "\n",
    "\n",
    "found = False\n",
    "while not found :\n",
    "    mid = (high + low) / 2\n",
    "    fixedMonthlyPayment = round(mid, 2)\n",
    "    remBalance = balance\n",
    "    for month in range(1,13):\n",
    "        unpaidBalance = remBalance - fixedMonthlyPayment\n",
    "        remBalance = unpaidBalance + unpaidBalance*monthlyInterestRate\n",
    "    if abs(remBalance) <= 0.1:              #expulsion value\n",
    "        found = True\n",
    "    elif remBalance > 0:\n",
    "        low = mid + 0.01\n",
    "    elif remBalance < 0:\n",
    "        high = mid - 0.01\n",
    "\n",
    "print(fixedMonthlyPayment)\n",
    "\n"
   ]
  },
  {
   "cell_type": "code",
   "execution_count": null,
   "metadata": {},
   "outputs": [],
   "source": []
  }
 ],
 "metadata": {
  "kernelspec": {
   "display_name": "Python 2",
   "language": "python",
   "name": "python2"
  },
  "language_info": {
   "codemirror_mode": {
    "name": "ipython",
    "version": 2
   },
   "file_extension": ".py",
   "mimetype": "text/x-python",
   "name": "python",
   "nbconvert_exporter": "python",
   "pygments_lexer": "ipython2",
   "version": "2.7.14"
  }
 },
 "nbformat": 4,
 "nbformat_minor": 2
}
