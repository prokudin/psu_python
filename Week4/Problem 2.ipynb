{
 "cells": [
  {
   "cell_type": "markdown",
   "metadata": {},
   "source": [
    "# Problem 3 - The Player with frequency\n",
    " \n",
    " \n",
    " Write your program that plays hangman for you using dictionary of frequency of letters of english alphabet, provided below\n",
    " "
   ]
  },
  {
   "cell_type": "code",
   "execution_count": 1,
   "metadata": {},
   "outputs": [
    {
     "name": "stdout",
     "output_type": "stream",
     "text": [
      "Loading word list from file...\n",
      "('  ', 55909, 'words loaded.')\n"
     ]
    }
   ],
   "source": [
    "import random\n",
    "from ps3_hangman import *"
   ]
  },
  {
   "cell_type": "code",
   "execution_count": 2,
   "metadata": {},
   "outputs": [
    {
     "name": "stdout",
     "output_type": "stream",
     "text": [
      "Frequency for letter a is 8.17\n",
      "Frequency for letter c is 2.78\n",
      "Frequency for letter b is 1.29\n",
      "Frequency for letter e is 12.7\n",
      "Frequency for letter d is 4.25\n",
      "Frequency for letter g is 2.02\n",
      "Frequency for letter f is 2.23\n",
      "Frequency for letter i is 6.97\n",
      "Frequency for letter h is 6.09\n",
      "Frequency for letter k is 0.77\n",
      "Frequency for letter j is 0.15\n",
      "Frequency for letter m is 2.41\n",
      "Frequency for letter l is 4.03\n",
      "Frequency for letter o is 7.51\n",
      "Frequency for letter n is 6.75\n",
      "Frequency for letter q is 0.1\n",
      "Frequency for letter p is 1.93\n",
      "Frequency for letter s is 6.33\n",
      "Frequency for letter r is 5.99\n",
      "Frequency for letter u is 2.76\n",
      "Frequency for letter t is 9.06\n",
      "Frequency for letter w is 2.36\n",
      "Frequency for letter v is 0.98\n",
      "Frequency for letter y is 1.97\n",
      "Frequency for letter x is 0.15\n",
      "Frequency for letter z is 0.07\n"
     ]
    }
   ],
   "source": [
    "englishLetterFreq = {'e': 12.70, 't': 9.06, 'a': 8.17, 'o': 7.51, 'i': 6.97, 'n': 6.75, 's': 6.33, 'h': 6.09, 'r': 5.99, 'd': 4.25, 'l': 4.03, 'c': 2.78, 'u': 2.76, 'm': 2.41, 'w': 2.36, 'f': 2.23, 'g': 2.02, 'y': 1.97, 'p': 1.93, 'b': 1.29, 'v': 0.98, 'k': 0.77, 'j': 0.15, 'x': 0.15, 'q': 0.10, 'z': 0.07}\n",
    "for key in englishLetterFreq.keys():\n",
    "    print(\"Frequency for letter \" + str(key) + \" is \" + str(englishLetterFreq[key]))"
   ]
  },
  {
   "cell_type": "code",
   "execution_count": 2,
   "metadata": {},
   "outputs": [
    {
     "name": "stdout",
     "output_type": "stream",
     "text": [
      "Loading word list from file...\n",
      "('  ', 55909, 'words loaded.')\n"
     ]
    }
   ],
   "source": [
    "secretWord = chooseWord(loadWords())"
   ]
  },
  {
   "cell_type": "code",
   "execution_count": 12,
   "metadata": {},
   "outputs": [
    {
     "name": "stdout",
     "output_type": "stream",
     "text": [
      "Loading word list from file...\n",
      "('  ', 55909, 'words loaded.')\n"
     ]
    }
   ],
   "source": [
    "import random\n",
    "listWords = loadWords()\n",
    "\n",
    "\n",
    "\n",
    "\n",
    "def playerFrequency(secretWord):\n",
    "    '''\n",
    "    secretWord: string, the secret word to guess.\n",
    "\n",
    "    Starts up an interactive game of Hangman.\n",
    "\n",
    "    * At the start of the game, let the user know how many \n",
    "      letters the secretWord contains.\n",
    "\n",
    "    * Ask the user to supply one guess (i.e. letter) per round.\n",
    "\n",
    "    * The user should receive feedback immediately after each guess \n",
    "      about whether their guess appears in the computers word.\n",
    "\n",
    "    * After each round, you should also display to the user the \n",
    "      partially guessed word so far, as well as letters that the \n",
    "      user has not yet guessed.\n",
    "\n",
    "    Follows the other limitations detailed in the problem write-up.\n",
    "    '''\n",
    "    # FILL IN YOUR CODE HERE...\n",
    "    print(\" Welcome to the game, Hangman! \")\n",
    "    print(\" I am thinking of a word that is \"+str(len(secretWord))+ \" letters long. \")\n",
    "    mistakesMade = 0\n",
    "    lettersGuessed = []\n",
    "    lettersGuessedRight = []\n",
    " \n",
    "    maxTries = 8\n",
    "                       \n",
    "    done = False\n",
    "    \n",
    "    while mistakesMade < maxTries and not done:\n",
    "        print(\" ------------- \")\n",
    "        print(\" You have \"+str( maxTries-mistakesMade)+ \" guesses left\")\n",
    "        print(\" Available letters: \"+ getAvailableLetters(lettersGuessed))\n",
    "        \n",
    "        print(\" Guess a letter: \")\n",
    "           \n",
    "        lettersToGuess = getAvailableLetters(lettersGuessed)\n",
    "        \n",
    "        mostProbable = lettersToGuess[0]\n",
    "\n",
    "        for char in lettersToGuess:\n",
    "            if englishLetterFreq[key] > englishLetterFreq[mostProbable]:\n",
    "                mostProbable = key\n",
    "\n",
    "        guess = mostProbable\n",
    "        print(guess)\n",
    "        \n",
    "        if guess in lettersGuessed:\n",
    "            print(\" Oops! You've already guessed that letter: \")\n",
    "        elif guess in secretWord:\n",
    "            print(\" Good guess: \")\n",
    "            lettersGuessed.append(guess)\n",
    "            lettersGuessedRight.append(guess)\n",
    "        else:\n",
    "            print(\" Oops! That letter is not in my word:\")\n",
    "            lettersGuessed.append(guess)\n",
    "            mistakesMade += 1\n",
    "        print getGuessedWord(secretWord, lettersGuessed)\n",
    "        \n",
    "        if isWordGuessed(secretWord, lettersGuessed):\n",
    "            done = True\n",
    "            \n",
    "        print \" ------------- \"\n",
    "\n",
    "    if isWordGuessed(secretWord, lettersGuessed):\n",
    "        print(\" Congratulations, you won!\")\n",
    "    else:\n",
    "        print(\" Sorry, you ran out of guesses. The word was \" + secretWord)"
   ]
  },
  {
   "cell_type": "code",
   "execution_count": 13,
   "metadata": {},
   "outputs": [
    {
     "name": "stdout",
     "output_type": "stream",
     "text": [
      " Welcome to the game, Hangman! \n",
      " I am thinking of a word that is 7 letters long. \n",
      " ------------- \n",
      " You have 8 guesses left\n",
      " Available letters: abcdefghijklmnopqrstuvwxyz\n",
      " Guess a letter: \n",
      "a\n",
      " Oops! That letter is not in my word:\n",
      "_ _ _ _ _ _ _ \n",
      " ------------- \n",
      " ------------- \n",
      " You have 7 guesses left\n",
      " Available letters: bcdefghijklmnopqrstuvwxyz\n",
      " Guess a letter: \n",
      "b\n",
      " Oops! That letter is not in my word:\n",
      "_ _ _ _ _ _ _ \n",
      " ------------- \n",
      " ------------- \n",
      " You have 6 guesses left\n",
      " Available letters: cdefghijklmnopqrstuvwxyz\n",
      " Guess a letter: \n",
      "c\n",
      " Oops! That letter is not in my word:\n",
      "_ _ _ _ _ _ _ \n",
      " ------------- \n",
      " ------------- \n",
      " You have 5 guesses left\n",
      " Available letters: defghijklmnopqrstuvwxyz\n",
      " Guess a letter: \n",
      "d\n",
      " Oops! That letter is not in my word:\n",
      "_ _ _ _ _ _ _ \n",
      " ------------- \n",
      " ------------- \n",
      " You have 4 guesses left\n",
      " Available letters: efghijklmnopqrstuvwxyz\n",
      " Guess a letter: \n",
      "e\n",
      " Good guess: \n",
      "_ e_ _ e_ _ \n",
      " ------------- \n",
      " ------------- \n",
      " You have 4 guesses left\n",
      " Available letters: fghijklmnopqrstuvwxyz\n",
      " Guess a letter: \n",
      "f\n",
      " Oops! That letter is not in my word:\n",
      "_ e_ _ e_ _ \n",
      " ------------- \n",
      " ------------- \n",
      " You have 3 guesses left\n",
      " Available letters: ghijklmnopqrstuvwxyz\n",
      " Guess a letter: \n",
      "g\n",
      " Oops! That letter is not in my word:\n",
      "_ e_ _ e_ _ \n",
      " ------------- \n",
      " ------------- \n",
      " You have 2 guesses left\n",
      " Available letters: hijklmnopqrstuvwxyz\n",
      " Guess a letter: \n",
      "h\n",
      " Oops! That letter is not in my word:\n",
      "_ e_ _ e_ _ \n",
      " ------------- \n",
      " ------------- \n",
      " You have 1 guesses left\n",
      " Available letters: ijklmnopqrstuvwxyz\n",
      " Guess a letter: \n",
      "i\n",
      " Oops! That letter is not in my word:\n",
      "_ e_ _ e_ _ \n",
      " ------------- \n",
      " Sorry, you ran out of guesses. The word was letters\n"
     ]
    }
   ],
   "source": [
    "playerFrequency(chooseWord(listWords))"
   ]
  },
  {
   "cell_type": "code",
   "execution_count": null,
   "metadata": {},
   "outputs": [],
   "source": []
  }
 ],
 "metadata": {
  "anaconda-cloud": {},
  "kernelspec": {
   "display_name": "Python 2",
   "language": "python",
   "name": "python2"
  },
  "language_info": {
   "codemirror_mode": {
    "name": "ipython",
    "version": 2
   },
   "file_extension": ".py",
   "mimetype": "text/x-python",
   "name": "python",
   "nbconvert_exporter": "python",
   "pygments_lexer": "ipython2",
   "version": "2.7.15"
  }
 },
 "nbformat": 4,
 "nbformat_minor": 1
}
