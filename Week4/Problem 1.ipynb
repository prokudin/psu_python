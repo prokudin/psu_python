{
 "cells": [
  {
   "cell_type": "markdown",
   "metadata": {},
   "source": [
    "# Problem 1 - The Player\n",
    " \n",
    " write your program that plays hangman for you using random choice of letters from availableLetters\n",
    " \n",
    " use your relization for hangman\n",
    " "
   ]
  },
  {
   "cell_type": "code",
   "execution_count": 1,
   "metadata": {},
   "outputs": [
    {
     "name": "stdout",
     "output_type": "stream",
     "text": [
      "Loading word list from file...\n",
      "('  ', 55909, 'words loaded.')\n"
     ]
    }
   ],
   "source": [
    "import random\n",
    "from ps3_hangman import *"
   ]
  },
  {
   "cell_type": "code",
   "execution_count": 2,
   "metadata": {},
   "outputs": [
    {
     "name": "stdout",
     "output_type": "stream",
     "text": [
      "Loading word list from file...\n",
      "('  ', 55909, 'words loaded.')\n"
     ]
    }
   ],
   "source": [
    "secretWord = chooseWord(loadWords())"
   ]
  },
  {
   "cell_type": "code",
   "execution_count": 3,
   "metadata": {},
   "outputs": [],
   "source": [
    "import random\n",
    "\n",
    "def player(secretWord):\n",
    "    '''\n",
    "    secretWord: string, the secret word to guess.\n",
    "\n",
    "    Starts up an interactive game of Hangman.\n",
    "\n",
    "    * At the start of the game, let the user know how many \n",
    "      letters the secretWord contains.\n",
    "\n",
    "    * Ask the user to supply one guess (i.e. letter) per round.\n",
    "\n",
    "    * The user should receive feedback immediately after each guess \n",
    "      about whether their guess appears in the computers word.\n",
    "\n",
    "    * After each round, you should also display to the user the \n",
    "      partially guessed word so far, as well as letters that the \n",
    "      user has not yet guessed.\n",
    "\n",
    "    Follows the other limitations detailed in the problem write-up.\n",
    "    '''\n",
    "    # FILL IN YOUR CODE HERE...\n",
    "    print('Welcome to the game, Hangman!')\n",
    "    print('I am thinking of a word that is'+str(len(secretWord))+ \"letters long.\")\n",
    "    mistakesMade = 0\n",
    "    lettersGuessed = []\n",
    " \n",
    "    maxTries = 8\n",
    "    \n",
    "    done = False\n",
    "    \n",
    "    while mistakesMade < maxTries and not done:\n",
    "        print(\"-------------\")\n",
    "        print(\" You have \"+str( maxTries-mistakesMade)+ \" guesses left\")\n",
    "        print(\" Available letters: \"+ getAvailableLetters(lettersGuessed))\n",
    "        \n",
    "        print(\" Guess a letter: \")\n",
    "        guess = random.choice(getAvailableLetters(lettersGuessed))\n",
    "        print(guess)\n",
    "        \n",
    "        if guess in lettersGuessed:\n",
    "            print(\" Oops! You've already guessed that letter: \")\n",
    "        elif guess in secretWord:\n",
    "            print(\" Good guess: \")\n",
    "            lettersGuessed.append(guess)\n",
    "        else:\n",
    "            print(\" Oops! That letter is not in my word:\")\n",
    "            lettersGuessed.append(guess)\n",
    "            mistakesMade += 1\n",
    "        print getGuessedWord(secretWord, lettersGuessed)\n",
    "        \n",
    "        if isWordGuessed(secretWord, lettersGuessed):\n",
    "            done = True\n",
    "            \n",
    "        print \"-------------\"\n",
    "\n",
    "    if isWordGuessed(secretWord, lettersGuessed):\n",
    "        print(\" Congratulations, you won!\")\n",
    "    else:\n",
    "        print(\" Sorry, you ran out of guesses. The word was \" + secretWord)"
   ]
  },
  {
   "cell_type": "code",
   "execution_count": 4,
   "metadata": {},
   "outputs": [
    {
     "name": "stdout",
     "output_type": "stream",
     "text": [
      "Welcome to the game, Hangman!\n",
      "I am thinking of a word that is9letters long.\n",
      "-------------\n",
      " You have 8 guesses left\n",
      " Available letters: abcdefghijklmnopqrstuvwxyz\n",
      " Guess a letter: \n",
      "c\n",
      " Good guess: \n",
      "_ _ _ _ _ c_ _ _ \n",
      "-------------\n",
      "-------------\n",
      " You have 8 guesses left\n",
      " Available letters: abdefghijklmnopqrstuvwxyz\n",
      " Guess a letter: \n",
      "n\n",
      " Oops! That letter is not in my word:\n",
      "_ _ _ _ _ c_ _ _ \n",
      "-------------\n",
      "-------------\n",
      " You have 7 guesses left\n",
      " Available letters: abdefghijklmopqrstuvwxyz\n",
      " Guess a letter: \n",
      "t\n",
      " Good guess: \n",
      "_ _ _ _ _ ct_ _ \n",
      "-------------\n",
      "-------------\n",
      " You have 7 guesses left\n",
      " Available letters: abdefghijklmopqrsuvwxyz\n",
      " Guess a letter: \n",
      "q\n",
      " Oops! That letter is not in my word:\n",
      "_ _ _ _ _ ct_ _ \n",
      "-------------\n",
      "-------------\n",
      " You have 6 guesses left\n",
      " Available letters: abdefghijklmoprsuvwxyz\n",
      " Guess a letter: \n",
      "i\n",
      " Good guess: \n",
      "_ i_ _ _ ct_ _ \n",
      "-------------\n",
      "-------------\n",
      " You have 6 guesses left\n",
      " Available letters: abdefghjklmoprsuvwxyz\n",
      " Guess a letter: \n",
      "p\n",
      " Oops! That letter is not in my word:\n",
      "_ i_ _ _ ct_ _ \n",
      "-------------\n",
      "-------------\n",
      " You have 5 guesses left\n",
      " Available letters: abdefghjklmorsuvwxyz\n",
      " Guess a letter: \n",
      "z\n",
      " Oops! That letter is not in my word:\n",
      "_ i_ _ _ ct_ _ \n",
      "-------------\n",
      "-------------\n",
      " You have 4 guesses left\n",
      " Available letters: abdefghjklmorsuvwxy\n",
      " Guess a letter: \n",
      "y\n",
      " Oops! That letter is not in my word:\n",
      "_ i_ _ _ ct_ _ \n",
      "-------------\n",
      "-------------\n",
      " You have 3 guesses left\n",
      " Available letters: abdefghjklmorsuvwx\n",
      " Guess a letter: \n",
      "u\n",
      " Oops! That letter is not in my word:\n",
      "_ i_ _ _ ct_ _ \n",
      "-------------\n",
      "-------------\n",
      " You have 2 guesses left\n",
      " Available letters: abdefghjklmorsvwx\n",
      " Guess a letter: \n",
      "d\n",
      " Good guess: \n",
      "di_ _ _ ct_ _ \n",
      "-------------\n",
      "-------------\n",
      " You have 2 guesses left\n",
      " Available letters: abefghjklmorsvwx\n",
      " Guess a letter: \n",
      "h\n",
      " Oops! That letter is not in my word:\n",
      "di_ _ _ ct_ _ \n",
      "-------------\n",
      "-------------\n",
      " You have 1 guesses left\n",
      " Available letters: abefgjklmorsvwx\n",
      " Guess a letter: \n",
      "j\n",
      " Oops! That letter is not in my word:\n",
      "di_ _ _ ct_ _ \n",
      "-------------\n",
      " Sorry, you ran out of guesses. The word was dissector\n"
     ]
    }
   ],
   "source": [
    "player(secretWord)"
   ]
  },
  {
   "cell_type": "code",
   "execution_count": null,
   "metadata": {},
   "outputs": [],
   "source": []
  }
 ],
 "metadata": {
  "anaconda-cloud": {},
  "kernelspec": {
   "display_name": "Python 2",
   "language": "python",
   "name": "python2"
  },
  "language_info": {
   "codemirror_mode": {
    "name": "ipython",
    "version": 2
   },
   "file_extension": ".py",
   "mimetype": "text/x-python",
   "name": "python",
   "nbconvert_exporter": "python",
   "pygments_lexer": "ipython2",
   "version": "2.7.15"
  }
 },
 "nbformat": 4,
 "nbformat_minor": 1
}
