{
 "cells": [
  {
   "cell_type": "markdown",
   "metadata": {},
   "source": [
    "# Problem 1 - The Player\n",
    " \n",
    " write your program that plays hangman for you using random choice of letters from availableLetters\n",
    " \n",
    " use your relization for hangman\n",
    " "
   ]
  },
  {
   "cell_type": "code",
   "execution_count": 43,
   "metadata": {
    "collapsed": true
   },
   "outputs": [],
   "source": [
    "def isWordGuessed(secretWord, lettersGuessed):\n",
    "    '''\n",
    "    secretWord: string, the word the user is guessing\n",
    "    lettersGuessed: list, what letters have been guessed so far\n",
    "    returns: boolean, True if all the letters of secretWord are in lettersGuessed;\n",
    "      False otherwise\n",
    "    '''\n",
    "    result = False\n",
    "    for letter in secretWord:\n",
    "        if letter in lettersGuessed:\n",
    "            result = True\n",
    "        else: \n",
    "            result = False\n",
    "            break\n",
    "    return result  "
   ]
  },
  {
   "cell_type": "code",
   "execution_count": 2,
   "metadata": {
    "collapsed": true
   },
   "outputs": [],
   "source": [
    "def getGuessedWord(secretWord, lettersGuessed):\n",
    "    '''\n",
    "    secretWord: string, the word the user is guessing\n",
    "    lettersGuessed: list, what letters have been guessed so far\n",
    "    returns: string, comprised of letters and underscores that represents\n",
    "      what letters in secretWord have been guessed so far.\n",
    "    '''\n",
    "    guessedWord=''\n",
    "    for letter in secretWord:\n",
    "        if letter not in lettersGuessed:\n",
    "            guessedWord += \"_ \"\n",
    "        else:\n",
    "            guessedWord += letter\n",
    "\n",
    "    return guessedWord"
   ]
  },
  {
   "cell_type": "code",
   "execution_count": 3,
   "metadata": {
    "collapsed": true
   },
   "outputs": [],
   "source": [
    "def getAvailableLetters(lettersGuessed):\n",
    "    '''\n",
    "    lettersGuessed: list, what letters have been guessed so far\n",
    "    returns: string, comprised of letters that represents what letters have not\n",
    "      yet been guessed.\n",
    "    '''\n",
    "    # FILL IN YOUR CODE HERE...\n",
    "    import string\n",
    "    alphabet = string.ascii_lowercase\n",
    "    availableLetter=''\n",
    "    \n",
    "    for letter in alphabet:\n",
    "        if letter not in lettersGuessed:\n",
    "            availableLetter += letter\n",
    "    \n",
    "    return availableLetter\n",
    "            \n"
   ]
  },
  {
   "cell_type": "code",
   "execution_count": 5,
   "metadata": {
    "collapsed": false
   },
   "outputs": [
    {
     "name": "stdout",
     "output_type": "stream",
     "text": [
      "Loading word list from file...\n",
      "('  ', 55909, 'words loaded.')\n"
     ]
    }
   ],
   "source": [
    "import random\n",
    "\n",
    "WORDLIST_FILENAME = \"words.txt\"\n",
    "\n",
    "def loadWords():\n",
    "    \"\"\"\n",
    "    Returns a list of valid words. Words are strings of lowercase letters.\n",
    "    \n",
    "    Depending on the size of the word list, this function may\n",
    "    take a while to finish.\n",
    "    \"\"\"\n",
    "    print(\"Loading word list from file...\")\n",
    "    # inFile: file\n",
    "    inFile = open(WORDLIST_FILENAME, 'r')\n",
    "    # line: string\n",
    "    line = inFile.readline()\n",
    "    # wordlist: list of strings\n",
    "    wordlist = line.split()\n",
    "    print(\"  \", len(wordlist), \"words loaded.\")\n",
    "    return wordlist\n",
    "\n",
    "def chooseWord(wordlist):\n",
    "    \"\"\"\n",
    "    wordlist (list): list of words (strings)\n",
    "\n",
    "    Returns a word from wordlist at random\n",
    "    \"\"\"\n",
    "    return random.choice(wordlist)\n",
    "\n",
    "wordlist = loadWords()\n",
    "secretWord = chooseWord(wordlist)"
   ]
  },
  {
   "cell_type": "code",
   "execution_count": 6,
   "metadata": {
    "collapsed": false
   },
   "outputs": [
    {
     "data": {
      "text/plain": [
       "'bungles'"
      ]
     },
     "execution_count": 6,
     "metadata": {},
     "output_type": "execute_result"
    }
   ],
   "source": [
    "secretWord"
   ]
  },
  {
   "cell_type": "code",
   "execution_count": 41,
   "metadata": {
    "collapsed": true
   },
   "outputs": [],
   "source": [
    "def hangman(secretWord):\n",
    "    '''\n",
    "    secretWord: string, the secret word to guess.\n",
    "\n",
    "    Starts up an interactive game of Hangman.\n",
    "\n",
    "    * At the start of the game, let the user know how many \n",
    "      letters the secretWord contains.\n",
    "\n",
    "    * Ask the user to supply one guess (i.e. letter) per round.\n",
    "\n",
    "    * The user should receive feedback immediately after each guess \n",
    "      about whether their guess appears in the computers word.\n",
    "\n",
    "    * After each round, you should also display to the user the \n",
    "      partially guessed word so far, as well as letters that the \n",
    "      user has not yet guessed.\n",
    "\n",
    "    Follows the other limitations detailed in the problem write-up.\n",
    "    '''\n",
    "    # FILL IN YOUR CODE HERE...\n",
    "    print 'Welcome to the game, Hangman!'\n",
    "    print 'I am thinking of a word that is', len(secretWord), \"letters long.\"\n",
    "    mistakesMade = 0\n",
    "    lettersGuessed = []\n",
    "    lettersToguess = len(secretWord)\n",
    "    \n",
    "    maxTries = 8\n",
    "    \n",
    "    def inputLetter():\n",
    "        done = False\n",
    "        letter = ''\n",
    "        while not done:\n",
    "            letter = raw_input(\"Please, guess a letter: \").lower()\n",
    "            if letter.isalpha() and len(letter) == 1:\n",
    "                done = True\n",
    "        return letter \n",
    "                \n",
    "    def lettersLeft(word):\n",
    "        left = 0\n",
    "        for letter in word:\n",
    "            if letter == '_':\n",
    "                left +=1\n",
    "        return left        \n",
    "    \n",
    "    done = False\n",
    "    \n",
    "    while mistakesMade < maxTries and not done:\n",
    "        print \"-------------\"\n",
    "        print \" You have \", maxTries-mistakesMade, \" guesses left\"\n",
    "        print \" Available letters: \", getAvailableLetters(lettersGuessed)\n",
    "        \n",
    "        guess = inputLetter()\n",
    "        \n",
    "        if guess in lettersGuessed:\n",
    "            print \" Oops! You've already guessed that letter: \"\n",
    "        elif guess in secretWord:\n",
    "            print \" Good guess: \"\n",
    "            lettersToguess = lettersLeft(getGuessedWord(secretWord, lettersGuessed))\n",
    "            lettersGuessed.append(guess)\n",
    "        else:\n",
    "            print \" Oops! That letter is not in my word:\"\n",
    "            lettersGuessed.append(guess)\n",
    "            mistakesMade += 1\n",
    "        print getGuessedWord(secretWord, lettersGuessed)\n",
    "        \n",
    "        if isWordGuessed(secretWord, lettersGuessed):\n",
    "            done = True\n",
    "            \n",
    "        print \"-------------\"\n",
    "\n",
    "    if isWordGuessed(secretWord, lettersGuessed):\n",
    "        print \" Congratulations, you won!\"\n",
    "    else:\n",
    "        print \" Sorry, you ran out of guesses. The word was\", secretWord"
   ]
  },
  {
   "cell_type": "code",
   "execution_count": 8,
   "metadata": {
    "collapsed": false
   },
   "outputs": [
    {
     "name": "stdout",
     "output_type": "stream",
     "text": [
      "Loading word list from file...\n",
      "('  ', 55909, 'words loaded.')\n"
     ]
    }
   ],
   "source": [
    "import random\n",
    "from ps3_hangman import loadWords, chooseWord"
   ]
  },
  {
   "cell_type": "code",
   "execution_count": 13,
   "metadata": {
    "collapsed": false
   },
   "outputs": [
    {
     "name": "stdout",
     "output_type": "stream",
     "text": [
      "Loading word list from file...\n",
      "('  ', 55909, 'words loaded.')\n"
     ]
    }
   ],
   "source": [
    "secretWord = chooseWord(loadWords())"
   ]
  },
  {
   "cell_type": "code",
   "execution_count": 14,
   "metadata": {
    "collapsed": false
   },
   "outputs": [
    {
     "data": {
      "text/plain": [
       "'goddesses'"
      ]
     },
     "execution_count": 14,
     "metadata": {},
     "output_type": "execute_result"
    }
   ],
   "source": [
    "secretWord"
   ]
  },
  {
   "cell_type": "code",
   "execution_count": 16,
   "metadata": {
    "collapsed": false
   },
   "outputs": [
    {
     "data": {
      "text/plain": [
       "'g_ _ _ _ _ _ _ _ '"
      ]
     },
     "execution_count": 16,
     "metadata": {},
     "output_type": "execute_result"
    }
   ],
   "source": [
    "getGuessedWord(secretWord, ['g'])"
   ]
  },
  {
   "cell_type": "code",
   "execution_count": 48,
   "metadata": {
    "collapsed": true
   },
   "outputs": [],
   "source": [
    "letterGuessed = ['g']"
   ]
  },
  {
   "cell_type": "code",
   "execution_count": 47,
   "metadata": {
    "collapsed": true
   },
   "outputs": [],
   "source": [
    "letterGuessed.append('d')"
   ]
  },
  {
   "cell_type": "code",
   "execution_count": 49,
   "metadata": {
    "collapsed": false
   },
   "outputs": [
    {
     "data": {
      "text/plain": [
       "True"
      ]
     },
     "execution_count": 49,
     "metadata": {},
     "output_type": "execute_result"
    }
   ],
   "source": [
    "isWordGuessed(secretWord, list(secretWord))"
   ]
  },
  {
   "cell_type": "code",
   "execution_count": 50,
   "metadata": {
    "collapsed": false
   },
   "outputs": [
    {
     "name": "stdout",
     "output_type": "stream",
     "text": [
      "Welcome to the game, Hangman!\n",
      "I am thinking of a word that is 9 letters long.\n",
      "-------------\n",
      " You have  8  guesses left\n",
      " Available letters:  abcdefghijklmnopqrstuvwxyz\n",
      "Please, guess a letter: f\n",
      " Oops! That letter is not in my word:\n",
      "_ _ _ _ _ _ _ _ _ \n",
      "-------------\n",
      "-------------\n",
      " You have  7  guesses left\n",
      " Available letters:  abcdeghijklmnopqrstuvwxyz\n",
      "Please, guess a letter: d\n",
      " Good guess: \n",
      "_ _ dd_ _ _ _ _ \n",
      "-------------\n",
      "-------------\n",
      " You have  7  guesses left\n",
      " Available letters:  abceghijklmnopqrstuvwxyz\n",
      "Please, guess a letter: o\n",
      " Good guess: \n",
      "_ odd_ _ _ _ _ \n",
      "-------------\n",
      "-------------\n",
      " You have  7  guesses left\n",
      " Available letters:  abceghijklmnpqrstuvwxyz\n",
      "Please, guess a letter: r\n",
      " Oops! That letter is not in my word:\n",
      "_ odd_ _ _ _ _ \n",
      "-------------\n",
      "-------------\n",
      " You have  6  guesses left\n",
      " Available letters:  abceghijklmnpqstuvwxyz\n",
      "Please, guess a letter: g\n",
      " Good guess: \n",
      "godd_ _ _ _ _ \n",
      "-------------\n",
      "-------------\n",
      " You have  6  guesses left\n",
      " Available letters:  abcehijklmnpqstuvwxyz\n",
      "Please, guess a letter: e\n",
      " Good guess: \n",
      "godde_ _ e_ \n",
      "-------------\n",
      "-------------\n",
      " You have  6  guesses left\n",
      " Available letters:  abchijklmnpqstuvwxyz\n",
      "Please, guess a letter: s\n",
      " Good guess: \n",
      "goddesses\n",
      "-------------\n",
      " Congratulations, you won!\n"
     ]
    }
   ],
   "source": [
    "hangman(secretWord)"
   ]
  },
  {
   "cell_type": "code",
   "execution_count": null,
   "metadata": {
    "collapsed": false
   },
   "outputs": [],
   "source": []
  }
 ],
 "metadata": {
  "anaconda-cloud": {},
  "kernelspec": {
   "display_name": "Python [default]",
   "language": "python",
   "name": "python2"
  },
  "language_info": {
   "codemirror_mode": {
    "name": "ipython",
    "version": 2
   },
   "file_extension": ".py",
   "mimetype": "text/x-python",
   "name": "python",
   "nbconvert_exporter": "python",
   "pygments_lexer": "ipython2",
   "version": "2.7.12"
  }
 },
 "nbformat": 4,
 "nbformat_minor": 1
}
