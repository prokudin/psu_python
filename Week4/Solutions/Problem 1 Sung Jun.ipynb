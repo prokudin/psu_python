{
 "cells": [
  {
   "cell_type": "markdown",
   "metadata": {},
   "source": [
    "# Problem 1 - The Player\n",
    " \n",
    " Low programmed\n",
    " "
   ]
  },
  {
   "cell_type": "code",
   "execution_count": 1,
   "metadata": {
    "collapsed": false
   },
   "outputs": [
    {
     "name": "stdout",
     "output_type": "stream",
     "text": [
      "Loading word list from file...\n",
      "('  ', 55909, 'words loaded.')\n"
     ]
    }
   ],
   "source": [
    "import random\n",
    "from ps3_hangman import *"
   ]
  },
  {
   "cell_type": "code",
   "execution_count": 2,
   "metadata": {
    "collapsed": false
   },
   "outputs": [
    {
     "name": "stdout",
     "output_type": "stream",
     "text": [
      "Loading word list from file...\n",
      "('  ', 55909, 'words loaded.')\n"
     ]
    }
   ],
   "source": [
    "secretWord = chooseWord(loadWords())"
   ]
  },
  {
   "cell_type": "code",
   "execution_count": null,
   "metadata": {
    "collapsed": true
   },
   "outputs": [],
   "source": []
  },
  {
   "cell_type": "raw",
   "metadata": {
    "collapsed": true
   },
   "source": [
    "# -*- coding: utf-8 -*-\n",
    "\"\"\"\n",
    "Created on Fri Feb 15 14:32:29 2019\n",
    "\n",
    "@author: Sean Won\n",
    "\"\"\"\n",
    "\n",
    "\"\"\"\n",
    "Created on Sun Feb 10 04:46:16 2019\n",
    "\n",
    "@author: Sean Won\n",
    "\"\"\"\n",
    "\n",
    "import random\n",
    "\n",
    "WORDLIST_FILENAME = \"words.txt\"\n",
    "\n",
    "def loadWords():\n",
    "    \n",
    "    print(\"Loading word list from file...\")\n",
    "    # inFile: file\n",
    "    inFile = open(WORDLIST_FILENAME, 'r')\n",
    "    # line: string\n",
    "    line = inFile.readline()\n",
    "    # wordlist: list of strings\n",
    "    wordlist = line.split()\n",
    "    print(\"  \", len(wordlist), \"words loaded.\")\n",
    "    return wordlist\n",
    "\n",
    "def chooseWord(wordlist):\n",
    "    \n",
    "    return random.choice(wordlist)\n",
    "\n",
    "def isWordGuessed(secretWord, lettersGuessed):\n",
    "        \n",
    "    word = \"\"\n",
    "    for xLetters in secretWord:\n",
    "        if xLetters in lettersGuessed:\n",
    "            word += xLetters\n",
    "            \n",
    "    if word == secretWord:\n",
    "        return True\n",
    "    \n",
    "    else:\n",
    "        return False\n",
    "\n",
    "\n",
    "def getGuessedWord(secretWord, lettersGuessed):\n",
    "    \n",
    "    result = \"\"   \n",
    "    \n",
    "    for xLetters in secretWord:\n",
    "        \n",
    "        if xLetters in lettersGuessed:\n",
    "            result += xLetters\n",
    "            \n",
    "        else:\n",
    "            result += \"_ \"          \n",
    "            \n",
    "    return(result)\n",
    "\n",
    "def getAvailableLetters(lettersGuessed):\n",
    "    \n",
    "    import string \n",
    "    \n",
    "    alphabet = string.ascii_lowercase    \n",
    "    result =\"\"\n",
    "    \n",
    "    for xLetters in alphabet:\n",
    "        \n",
    "        if xLetters not in lettersGuessed:\n",
    "            result += xLetters\n",
    "            \n",
    "    return(result)\n",
    "    \n",
    "def isLetterGuessed(secretWord, userGuess):\n",
    "    \n",
    "    for xLetters in secretWord:\n",
    "        \n",
    "        if xLetters == userGuess:\n",
    "            return(True)\n",
    "            \n",
    "    return(False)\n",
    "\n",
    "\"\"\"\n",
    "\"\"\"\n",
    "def player():\n",
    "    import string     \n",
    "    alphabet = string.ascii_lowercase\n",
    "    letter = chooseWord(alphabet)\n",
    "    return (letter)    \n",
    "    \n",
    "\"\"\"\n",
    "\"\"\"\n",
    "def hangman(secretWord):\n",
    "    \n",
    "    count = 8\n",
    "    \n",
    "    userGuess = \"\"\n",
    "    guessSoFar = []\n",
    "    prevGuess = False\n",
    "    \n",
    "    print(\"Welcome to the game Hangman!\")\n",
    "    print(\"I am thinking of a word that is\", len(secretWord), \"letters long\")\n",
    "    \n",
    "    while count > 0:\n",
    "        print(\"-----------\")\n",
    "        print(\"You have\", count, \"guesses left\")\n",
    "        \n",
    "        remainder = getAvailableLetters(guessSoFar)\n",
    "        print(\"Available Letters: \" + remainder)\n",
    "        \n",
    "        guess = player()\n",
    "        print(\"Please guess a letter:\" + guess)\n",
    "        userGuess = guess.lower()        \n",
    "        \n",
    "        prevGuess = isLetterGuessed(guessSoFar, userGuess)\n",
    "        guessSoFar.append(userGuess)\n",
    "        \n",
    "        finalResult = getGuessedWord(secretWord, guessSoFar)\n",
    "        theLetter = isLetterGuessed(secretWord, userGuess)\n",
    "        \n",
    "        if prevGuess == True:\n",
    "            print(\"Oops! You've already guessed that letter:\" + finalResult)\n",
    "            prevGuess = isLetterGuessed(guessSoFar, userGuess)\n",
    "            guessSoFar.append(userGuess)\n",
    "            \n",
    "        elif theLetter == False and count > 1:\n",
    "            print(\"Oops! That letter is not in my word:\" + finalResult)\n",
    "            count -= 1\n",
    "            \n",
    "        elif theLetter == True and count > 0:\n",
    "            print(\"Good guess: \"+ finalResult)\n",
    "            \n",
    "            if finalResult == secretWord:\n",
    "                print(\"-----------\")\n",
    "                print(\"Congratulations, you won!\")\n",
    "                print(\"None\")\n",
    "                count = 0\n",
    "                return 1\n",
    "        else:\n",
    "            print(\"Oops! That letter is not in my word:\" + finalResult)\n",
    "            print(\"-----------\")\n",
    "            print(\"Sorry, you ran out of guesses. The word was \"+ secretWord + \".\")\n",
    "            print(\"None\")\n",
    "            count = 0\n",
    "            return 0\n",
    "            \n",
    "    \n",
    "wordlist = loadWords()\n",
    "\n",
    "\n",
    "result = 0\n",
    "playTime = 1000\n",
    "rateOfWin = 0\n",
    "for numberOfPlay in range(playTime):\n",
    "    secretWord = chooseWord(wordlist)\n",
    "    play = hangman(secretWord)\n",
    "    result += play\n",
    "rateOfWin = round((result/playTime)*100,2)\n",
    "print(rateOfWin)\n",
    " "
   ]
  }
 ],
 "metadata": {
  "anaconda-cloud": {},
  "kernelspec": {
   "display_name": "Python [default]",
   "language": "python",
   "name": "python2"
  },
  "language_info": {
   "codemirror_mode": {
    "name": "ipython",
    "version": 2
   },
   "file_extension": ".py",
   "mimetype": "text/x-python",
   "name": "python",
   "nbconvert_exporter": "python",
   "pygments_lexer": "ipython2",
   "version": "2.7.12"
  }
 },
 "nbformat": 4,
 "nbformat_minor": 1
}
