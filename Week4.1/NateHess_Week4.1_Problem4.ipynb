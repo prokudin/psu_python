{
 "cells": [
  {
   "cell_type": "code",
   "execution_count": null,
   "metadata": {},
   "outputs": [],
   "source": [
    "def calculateHandlen(hand):\n",
    "    \"\"\" \n",
    "    Returns the length (number of letters) in the current hand.\n",
    "    \n",
    "    hand: dictionary (string int)\n",
    "    returns: integer\n",
    "    \"\"\"\n",
    "    handCount = 0\n",
    "    \n",
    "    for i in hand.values():\n",
    "        handCount += i\n",
    "\n",
    "    return handCount\n"
   ]
  }
 ],
 "metadata": {
  "kernelspec": {
   "display_name": "Python 2",
   "language": "python",
   "name": "python2"
  },
  "language_info": {
   "codemirror_mode": {
    "name": "ipython",
    "version": 2
   },
   "file_extension": ".py",
   "mimetype": "text/x-python",
   "name": "python",
   "nbconvert_exporter": "python",
   "pygments_lexer": "ipython2",
   "version": "2.7.14"
  }
 },
 "nbformat": 4,
 "nbformat_minor": 2
}
