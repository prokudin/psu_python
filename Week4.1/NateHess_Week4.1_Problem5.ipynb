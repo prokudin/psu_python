{
 "cells": [
  {
   "cell_type": "code",
   "execution_count": null,
   "metadata": {},
   "outputs": [],
   "source": [
    "def playHand(hand, wordList, n):\n",
    "    \"\"\"\n",
    "    Allows the user to play the given hand, as follows:\n",
    "\n",
    "    * The hand is displayed.\n",
    "    * The user may input a word or a single period (the string \".\") \n",
    "      to indicate they're done playing\n",
    "    * Invalid words are rejected, and a message is displayed asking\n",
    "      the user to choose another word until they enter a valid word or \".\"\n",
    "    * When a valid word is entered, it uses up letters from the hand.\n",
    "    * After every valid word: the score for that word is displayed,\n",
    "      the remaining letters in the hand are displayed, and the user\n",
    "      is asked to input another word.\n",
    "    * The sum of the word scores is displayed when the hand finishes.\n",
    "    * The hand finishes when there are no more unused letters or the user\n",
    "      inputs a \".\"\n",
    "\n",
    "      hand: dictionary (string -> int)\n",
    "      wordList: list of lowercase strings\n",
    "      n: integer (HAND_SIZE; i.e., hand size required for additional points)\n",
    "      \n",
    "    \"\"\"\n",
    "    # Keep track of the total score\n",
    "    score = 0\n",
    "    # As long as there are still letters left in the hand:\n",
    "    while calculateHandlen(hand) > 0:\n",
    "        # Display the hand\n",
    "        displayHand(hand)\n",
    "        # Ask user for input\n",
    "        word = input('Enter word, or a \".\" to indicate that you are finished: ')\n",
    "        # If the input is a single period:\n",
    "        if word == '.':\n",
    "            # End the game (break out of the loop)\n",
    "            break\n",
    "        # Otherwise (the input is not a single period):\n",
    "        else:\n",
    "            # If the word is not valid:\n",
    "            if isValidWord(word, hand, wordList) == False:        \n",
    "                # Reject invalid word (print a message followed by a blank line)\n",
    "                print(\"Invalid word, please try again.\\n\")\n",
    "            # Otherwise (the word is valid):\n",
    "            else:\n",
    "                # Tell the user how many points the word earned, and the updated total score, in one line followed by a blank line\n",
    "                score += getWordScore(word,n)\n",
    "                print('\"',word,'\" earned ',getWordScore(word,n),' points. Total: ',score,' points\\n\\n')\n",
    "                # Update the hand \n",
    "                hand = updateHand(hand,word)\n",
    "    # Game is over (user entered a '.' or ran out of letters), so tell user the total score\n",
    "#    print(\"Run out of letters. Total score: \",score,\" points.\")\n",
    "    print(\"Goodbye! Total score: \",score,\" points.\")\n"
   ]
  }
 ],
 "metadata": {
  "kernelspec": {
   "display_name": "Python 2",
   "language": "python",
   "name": "python2"
  },
  "language_info": {
   "codemirror_mode": {
    "name": "ipython",
    "version": 2
   },
   "file_extension": ".py",
   "mimetype": "text/x-python",
   "name": "python",
   "nbconvert_exporter": "python",
   "pygments_lexer": "ipython2",
   "version": "2.7.14"
  }
 },
 "nbformat": 4,
 "nbformat_minor": 2
}
