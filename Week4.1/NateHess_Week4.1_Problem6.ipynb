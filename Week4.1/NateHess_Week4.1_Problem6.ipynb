{
 "cells": [
  {
   "cell_type": "code",
   "execution_count": null,
   "metadata": {},
   "outputs": [],
   "source": [
    "def playGame(wordList):\n",
    "    \"\"\"\n",
    "    Allow the user to play an arbitrary number of hands.\n",
    " \n",
    "    1) Asks the user to input 'n' or 'r' or 'e'.\n",
    "      * If the user inputs 'n', let the user play a new (random) hand.\n",
    "      * If the user inputs 'r', let the user play the last hand again.\n",
    "      * If the user inputs 'e', exit the game.\n",
    "      * If the user inputs anything else, tell them their input was invalid.\n",
    " \n",
    "    2) When done playing the hand, repeat from step 1\n",
    "    \"\"\"\n",
    "    while True:\n",
    "        choice = raw_input('Enter n to deal a new hand, r to replay the last hand, or e to end game: ')\n",
    "        if choice == 'e':\n",
    "            break\n",
    "        elif choice == 'n':\n",
    "            hand = dealHand(HAND_SIZE)\n",
    "            playHand(hand, wordList, HAND_SIZE)\n",
    "        elif choice == 'r':\n",
    "            try:\n",
    "                playHand(hand, wordList, HAND_SIZE)\n",
    "            except:\n",
    "              print('You have not played a hand yet.)                           \n",
    "        else:\n",
    "            print('Invalid command.')    \n"
   ]
  }
 ],
 "metadata": {
  "kernelspec": {
   "display_name": "Python 2",
   "language": "python",
   "name": "python2"
  },
  "language_info": {
   "codemirror_mode": {
    "name": "ipython",
    "version": 2
   },
   "file_extension": ".py",
   "mimetype": "text/x-python",
   "name": "python",
   "nbconvert_exporter": "python",
   "pygments_lexer": "ipython2",
   "version": "2.7.14"
  }
 },
 "nbformat": 4,
 "nbformat_minor": 2
}
