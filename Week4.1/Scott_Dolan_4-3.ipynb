{
 "cells": [
  {
   "cell_type": "code",
   "execution_count": null,
   "metadata": {},
   "outputs": [],
   "source": [
    "def isValidWord(word, hand, wordList):\n",
    "    \"\"\"\n",
    "    Returns True if word is in the wordList and is entirely\n",
    "    composed of letters in the hand. Otherwise, returns False.\n",
    "\n",
    "    Does not mutate hand or wordList.\n",
    "   \n",
    "    word: string\n",
    "    hand: dictionary (string -> int)\n",
    "    wordList: list of lowercase strings\n",
    "    \"\"\"\n",
    "   \n",
    "    import copy\n",
    "    handCheck = copy.deepcopy(hand)\n",
    "    \n",
    "    if word not in wordList:\n",
    "        return False\n",
    "    \n",
    "    else:\n",
    "        for letter in word:\n",
    "            if letter in handCheck and handCheck[letter] > 0:\n",
    "                handCheck[letter] -= 1\n",
    "                \n",
    "            else:\n",
    "               return False\n",
    "    \n",
    "        return True "
   ]
  }
 ],
 "metadata": {
  "kernelspec": {
   "display_name": "Python 2",
   "language": "python",
   "name": "python2"
  },
  "language_info": {
   "codemirror_mode": {
    "name": "ipython",
    "version": 2
   },
   "file_extension": ".py",
   "mimetype": "text/x-python",
   "name": "python",
   "nbconvert_exporter": "python",
   "pygments_lexer": "ipython2",
   "version": "2.7.14"
  }
 },
 "nbformat": 4,
 "nbformat_minor": 2
}
