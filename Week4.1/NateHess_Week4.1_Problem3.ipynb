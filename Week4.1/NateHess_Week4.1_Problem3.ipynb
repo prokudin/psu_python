{
 "cells": [
  {
   "cell_type": "code",
   "execution_count": null,
   "metadata": {},
   "outputs": [],
   "source": [
    "def isValidWord(word, hand, wordList):\n",
    "    \"\"\"\n",
    "    Returns True if word is in the wordList and is entirely\n",
    "    composed of letters in the hand. Otherwise, returns False.\n",
    "\n",
    "    Does not mutate hand or wordList.\n",
    "   \n",
    "    word: string\n",
    "    hand: dictionary (string -> int)\n",
    "    wordList: list of lowercase strings\n",
    "    \"\"\"\n",
    "    workingHand = hand.copy()\n",
    "    inWord = False\n",
    "    realWord = False\n",
    "    \n",
    "    if word in wordList:\n",
    "        realWord = True\n",
    "    else:\n",
    "        realWord = False\n",
    "        return False\n",
    "    \n",
    "    for letter in word:\n",
    "        if letter in workingHand.keys():\n",
    "            workingHand[letter] -= 1\n",
    "            \n",
    "    for i in workingHand.values():\n",
    "        if i >= 0:\n",
    "            inWord = True\n",
    "        else:\n",
    "            inWord = False\n",
    "            return False\n",
    "    \n",
    "    if inWord == True and realWord == True:\n",
    "        return True    \n"
   ]
  }
 ],
 "metadata": {
  "kernelspec": {
   "display_name": "Python 2",
   "language": "python",
   "name": "python2"
  },
  "language_info": {
   "codemirror_mode": {
    "name": "ipython",
    "version": 2
   },
   "file_extension": ".py",
   "mimetype": "text/x-python",
   "name": "python",
   "nbconvert_exporter": "python",
   "pygments_lexer": "ipython2",
   "version": "2.7.14"
  }
 },
 "nbformat": 4,
 "nbformat_minor": 2
}
