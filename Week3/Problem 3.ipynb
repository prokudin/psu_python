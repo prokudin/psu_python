{
 "cells": [
  {
   "cell_type": "markdown",
   "metadata": {},
   "source": [
    "Problem 3 - Printing Out all Available Letters\n",
    "0.0/10.0 points (graded)\n",
    "Next, implement the function getAvailableLetters that takes in one parameter - a list of letters, lettersGuessed. This function returns a string that is comprised of lowercase English letters - all lowercase English letters that are not in lettersGuessed.\n",
    "\n",
    "Example Usage:\n",
    "\n",
    ">>> lettersGuessed = ['e', 'i', 'k', 'p', 'r', 's']\n",
    ">>> print(getAvailableLetters(lettersGuessed))\n",
    "abcdfghjlmnoqtuvwxyz\n",
    "Note that this function should return the letters in alphabetical order, as in the example above.\n",
    "\n",
    "For this function, you may assume that all the letters in lettersGuessed are lowercase.\n",
    "\n",
    "Hint: You might consider using string.ascii_lowercase, which is a string comprised of all lowercase letters:\n",
    "\n",
    ">>> import string\n",
    ">>> print(string.ascii_lowercase)\n",
    "abcdefghijklmnopqrstuvwxyz"
   ]
  },
  {
   "cell_type": "code",
   "execution_count": 4,
   "metadata": {},
   "outputs": [],
   "source": [
    " \n",
    "lettersGuessed = ['e', 'i', 'k', 'p', 'r', 's']"
   ]
  },
  {
   "cell_type": "code",
   "execution_count": 7,
   "metadata": {},
   "outputs": [],
   "source": [
    "def getAvailableLetters(lettersGuessed):\n",
    "    '''\n",
    "    lettersGuessed: list, what letters have been guessed so far\n",
    "    returns: string, comprised of letters that represents what letters have not\n",
    "      yet been guessed.\n",
    "    '''\n",
    "    # FILL IN YOUR CODE HERE...\n",
    "    import string\n",
    "    alphabet = string.ascii_lowercase\n",
    "    availableLetter=''\n",
    "    \n",
    "    for letter in alphabet:\n",
    "        if letter not in lettersGuessed:\n",
    "            availableLetter += letter\n",
    "    \n",
    "    return availableLetter\n",
    "            \n"
   ]
  },
  {
   "cell_type": "code",
   "execution_count": 8,
   "metadata": {},
   "outputs": [
    {
     "data": {
      "text/plain": [
       "'abcdfghjlmnoqtuvwxyz'"
      ]
     },
     "execution_count": 8,
     "metadata": {},
     "output_type": "execute_result"
    }
   ],
   "source": [
    "getAvailableLetters(lettersGuessed)"
   ]
  },
  {
   "cell_type": "code",
   "execution_count": null,
   "metadata": {},
   "outputs": [],
   "source": []
  }
 ],
 "metadata": {
  "anaconda-cloud": {},
  "kernelspec": {
   "display_name": "Python 2",
   "language": "python",
   "name": "python2"
  },
  "language_info": {
   "codemirror_mode": {
    "name": "ipython",
    "version": 2
   },
   "file_extension": ".py",
   "mimetype": "text/x-python",
   "name": "python",
   "nbconvert_exporter": "python",
   "pygments_lexer": "ipython2",
   "version": "2.7.15"
  }
 },
 "nbformat": 4,
 "nbformat_minor": 1
}
