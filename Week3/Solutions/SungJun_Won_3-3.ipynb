{
 "cells": [
  {
   "cell_type": "code",
   "execution_count": 1,
   "metadata": {},
   "outputs": [],
   "source": [
    "import string\n",
    "def getAvailableLetters(lettersGuessed):\n",
    "    '''\n",
    "    lettersGuessed: list, what letters have been guessed so far\n",
    "    returns: string, comprised of letters that represents what letters have not\n",
    "      yet been guessed.\n",
    "    '''\n",
    "    alphabet = string.ascii_lowercase\n",
    "    \"\"\"\n",
    "    imported string to use ascii_lowercase function\n",
    "    \"\"\"\n",
    "    result =\"\"\n",
    "    for xLetters in alphabet:\n",
    "        correctLetter = \"\"\n",
    "        \n",
    "        for yLetters in lettersGuessed:\n",
    "            \n",
    "            if xLetters == yLetters:\n",
    "                correctLetter = xLetters\n",
    "                \n",
    "        if correctLetter != xLetters:\n",
    "            result += str(xLetters)\n",
    "     \n",
    "    return(result)"
   ]
  },
  {
   "cell_type": "code",
   "execution_count": 2,
   "metadata": {},
   "outputs": [
    {
     "name": "stdout",
     "output_type": "stream",
     "text": [
      "abcdfghjlmnoqtuvwxyz\n"
     ]
    }
   ],
   "source": [
    "lettersGuessed = [\"e\",\"i\",\"k\",\"p\",\"r\",\"s\"]\n",
    "define = getAvailableLetters(lettersGuessed)\n",
    "print(define)"
   ]
  },
  {
   "cell_type": "code",
   "execution_count": null,
   "metadata": {},
   "outputs": [],
   "source": []
  }
 ],
 "metadata": {
  "kernelspec": {
   "display_name": "Python 2",
   "language": "python",
   "name": "python2"
  },
  "language_info": {
   "codemirror_mode": {
    "name": "ipython",
    "version": 2
   },
   "file_extension": ".py",
   "mimetype": "text/x-python",
   "name": "python",
   "nbconvert_exporter": "python",
   "pygments_lexer": "ipython2",
   "version": "2.7.15"
  }
 },
 "nbformat": 4,
 "nbformat_minor": 2
}
