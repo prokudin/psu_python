{
 "cells": [
  {
   "cell_type": "code",
   "execution_count": 7,
   "metadata": {},
   "outputs": [],
   "source": [
    "def isWordGuessed(secretWord, lettersGuessed):\n",
    "    '''\n",
    "    secretWord: string, the word the user is guessing\n",
    "    lettersGuessed: list, what letters have been guessed so far\n",
    "    returns: boolean, True if all the letters of secretWord are in lettersGuessed;\n",
    "      False otherwise\n",
    "    After having fun with it, I deleted sorted part\n",
    "    '''\n",
    "    correctNumber = 0\n",
    "    checkWord = list(secretWord)\n",
    "    \n",
    "    #xLetters = \"\"\n",
    "    #yLetters = \"\"\n",
    "    \n",
    "    for xLetters in checkWord:\n",
    "        \n",
    "        for yLetters in lettersGuessed:\n",
    "            \n",
    "            if xLetters == yLetters:\n",
    "                correctNumber += 1\n",
    "                \n",
    "    if correctNumber >= len(secretWord):\n",
    "        return(True)\n",
    "        \n",
    "    else:\n",
    "        return(False)"
   ]
  },
  {
   "cell_type": "code",
   "execution_count": 8,
   "metadata": {},
   "outputs": [],
   "source": [
    "secretWord = \"apple\"\n",
    "lettersGuessed = [\"a\",\"p\",\"l\",\"e\"]\n",
    "define = isWordGuessed(secretWord, lettersGuessed)"
   ]
  },
  {
   "cell_type": "code",
   "execution_count": 9,
   "metadata": {},
   "outputs": [
    {
     "name": "stdout",
     "output_type": "stream",
     "text": [
      "True\n"
     ]
    }
   ],
   "source": [
    "print(define)"
   ]
  },
  {
   "cell_type": "code",
   "execution_count": null,
   "metadata": {},
   "outputs": [],
   "source": []
  }
 ],
 "metadata": {
  "kernelspec": {
   "display_name": "Python 2",
   "language": "python",
   "name": "python2"
  },
  "language_info": {
   "codemirror_mode": {
    "name": "ipython",
    "version": 2
   },
   "file_extension": ".py",
   "mimetype": "text/x-python",
   "name": "python",
   "nbconvert_exporter": "python",
   "pygments_lexer": "ipython2",
   "version": "2.7.15"
  }
 },
 "nbformat": 4,
 "nbformat_minor": 2
}
