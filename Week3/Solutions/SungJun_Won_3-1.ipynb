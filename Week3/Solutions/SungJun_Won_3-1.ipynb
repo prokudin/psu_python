{
 "cells": [
  {
   "cell_type": "code",
   "execution_count": 1,
   "metadata": {},
   "outputs": [],
   "source": [
    "def isWordGuessed(secretWord, lettersGuessed):\n",
    "    '''\n",
    "    secretWord: string, the word the user is guessing\n",
    "    lettersGuessed: list, what letters have been guessed so far\n",
    "    returns: boolean, True if all the letters of secretWord are in lettersGuessed;\n",
    "      False otherwise\n",
    "    After having fun with it, I deleted sorted part\n",
    "    '''\n",
    "    correctNumber = 0\n",
    "    checkWord = list(secretWord)\n",
    "    \n",
    "    xLetters = \"\"\n",
    "    yLetters = \"\"\n",
    "    \n",
    "    for xLetters in checkWord:\n",
    "        \n",
    "        for yLetters in lettersGuessed:\n",
    "            \n",
    "            if xLetters == yLetters:\n",
    "                correctNumber += 1\n",
    "                \n",
    "    if correctNumber >= len(secretWord):\n",
    "        return(True)\n",
    "        \n",
    "    else:\n",
    "        return(False)"
   ]
  },
  {
   "cell_type": "code",
   "execution_count": 2,
   "metadata": {},
   "outputs": [],
   "source": [
    "secretWord = \"apple\"\n",
    "lettersGuessed = [\"e\",\"i\",\"k\",\"p\",\"r\",\"s\"]\n",
    "define = isWordGuessed(secretWord, lettersGuessed)"
   ]
  },
  {
   "cell_type": "code",
   "execution_count": 3,
   "metadata": {},
   "outputs": [
    {
     "name": "stdout",
     "output_type": "stream",
     "text": [
      "False\n"
     ]
    }
   ],
   "source": [
    "print(define)"
   ]
  },
  {
   "cell_type": "code",
   "execution_count": null,
   "metadata": {},
   "outputs": [],
   "source": []
  }
 ],
 "metadata": {
  "kernelspec": {
   "display_name": "Python 2",
   "language": "python",
   "name": "python2"
  },
  "language_info": {
   "codemirror_mode": {
    "name": "ipython",
    "version": 2
   },
   "file_extension": ".py",
   "mimetype": "text/x-python",
   "name": "python",
   "nbconvert_exporter": "python",
   "pygments_lexer": "ipython2",
   "version": "2.7.14"
  }
 },
 "nbformat": 4,
 "nbformat_minor": 2
}
