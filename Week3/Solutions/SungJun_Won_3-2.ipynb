{
 "cells": [
  {
   "cell_type": "code",
   "execution_count": 1,
   "metadata": {},
   "outputs": [],
   "source": [
    "def getGuessedWord(secretWord, lettersGuessed):\n",
    "    '''\n",
    "    secretWord: string, the word the user is guessing\n",
    "    lettersGuessed: list, what letters have been guessed so far\n",
    "    returns: letter or underscore depending on matching place\n",
    "    After having fun with it, I deleted sorted part\n",
    "    '''\n",
    "    # FILL IN YOUR CODE HERE...\n",
    "    \n",
    "    result = \"\"\n",
    "    checkWord = list(secretWord)\n",
    "    sortedWord = checkWord[:]\n",
    "    sortedGuess = lettersGuessed[:]\n",
    "    #xLetters = \"\"\n",
    "    #yLetters = \"\"\n",
    "    \n",
    "    for xLetters in sortedWord:\n",
    "        correctLetter = \"\"\n",
    "        for yLetters in sortedGuess:\n",
    "            if xLetters == yLetters:\n",
    "                correctLetter = yLetters\n",
    "        if correctLetter != \"\":\n",
    "            result += str(correctLetter)\n",
    "        else:\n",
    "            result += \"_ \"\n",
    "            \n",
    "    return(result)"
   ]
  },
  {
   "cell_type": "code",
   "execution_count": 2,
   "metadata": {},
   "outputs": [
    {
     "name": "stdout",
     "output_type": "stream",
     "text": [
      "_ pp_ e\n"
     ]
    }
   ],
   "source": [
    "secretWord = \"apple\"\n",
    "lettersGuessed = [\"e\",\"i\",\"k\",\"p\",\"r\",\"s\"]\n",
    "define = getGuessedWord(secretWord, lettersGuessed)\n",
    "print(define)"
   ]
  },
  {
   "cell_type": "code",
   "execution_count": null,
   "metadata": {},
   "outputs": [],
   "source": []
  }
 ],
 "metadata": {
  "kernelspec": {
   "display_name": "Python 2",
   "language": "python",
   "name": "python2"
  },
  "language_info": {
   "codemirror_mode": {
    "name": "ipython",
    "version": 2
   },
   "file_extension": ".py",
   "mimetype": "text/x-python",
   "name": "python",
   "nbconvert_exporter": "python",
   "pygments_lexer": "ipython2",
   "version": "2.7.15"
  }
 },
 "nbformat": 4,
 "nbformat_minor": 2
}
