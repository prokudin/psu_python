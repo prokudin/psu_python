{
 "cells": [
  {
   "cell_type": "code",
   "execution_count": 1,
   "metadata": {},
   "outputs": [],
   "source": [
    "secretWord = 'apple'\n",
    "lettersGuessed = ['a','p']\n",
    "\n",
    "def isWordGuessed(secretWord, lettersGuessed):\n",
    "    '''\n",
    "    secretWord: string, the word the user is guessing\n",
    "    lettersGuessed: list, what letters have been guessed so far\n",
    "    returns: boolean, True if all the letters of secretWord are in lettersGuessed;\n",
    "    False otherwise\n",
    "    '''\n",
    "    return all(letters in ''.join(lettersGuessed) for letters in secretWord)\n",
    "\n"
   ]
  },
  {
   "cell_type": "code",
   "execution_count": 2,
   "metadata": {},
   "outputs": [
    {
     "data": {
      "text/plain": [
       "False"
      ]
     },
     "execution_count": 2,
     "metadata": {},
     "output_type": "execute_result"
    }
   ],
   "source": [
    "isWordGuessed(secretWord, lettersGuessed)"
   ]
  },
  {
   "cell_type": "code",
   "execution_count": null,
   "metadata": {},
   "outputs": [],
   "source": []
  }
 ],
 "metadata": {
  "kernelspec": {
   "display_name": "Python 2",
   "language": "python",
   "name": "python2"
  },
  "language_info": {
   "codemirror_mode": {
    "name": "ipython",
    "version": 2
   },
   "file_extension": ".py",
   "mimetype": "text/x-python",
   "name": "python",
   "nbconvert_exporter": "python",
   "pygments_lexer": "ipython2",
   "version": "2.7.15"
  }
 },
 "nbformat": 4,
 "nbformat_minor": 2
}
