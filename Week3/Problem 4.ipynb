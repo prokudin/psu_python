{
 "cells": [
  {
   "cell_type": "markdown",
   "metadata": {},
   "source": [
    "Problem 4 - The Game\n",
    "0.0/15.0 points (graded)\n",
    "Now you will implement the function hangman, which takes one parameter - the secretWord the user is to guess. This starts up an interactive game of Hangman between the user and the computer. Be sure you take advantage of the three helper functions, isWordGuessed, getGuessedWord, and getAvailableLetters, that you've defined in the previous part.\n",
    "\n",
    "Hints:\n",
    "You should start by noticing where we're using the provided functions (at the top of ps3_hangman.py) to load the words and pick a random one. Note that the functions loadWords and chooseWord should only be used on your local machine, not in the tutor. When you enter in your solution in the tutor, you only need to give your hangman function.\n",
    "\n",
    "Consider using lower() to convert user input to lower case. For example:\n",
    "\n",
    "guess = 'A'\n",
    "guessInLowerCase = guess.lower()\n",
    "Consider writing additional helper functions if you need them!\n",
    "\n",
    "There are four important pieces of information you may wish to store:\n",
    "\n",
    "secretWord: The word to guess.\n",
    "lettersGuessed: The letters that have been guessed so far.\n",
    "mistakesMade: The number of incorrect guesses made so far.\n",
    "availableLetters: The letters that may still be guessed. Every time a player guesses a letter, the guessed letter must be removed from availableLetters (and if they guess a letter that is not in availableLetters, you should print a message telling them they've already guessed that - so try again!).\n",
    "\n",
    "\n",
    "Loading word list from file...\n",
    "\t55900 words loaded.\n",
    "\tWelcome to the game, Hangman!\n",
    "\tI am thinking of a word that is 4 letters long.\n",
    "\t-------------\n",
    "\tYou have 8 guesses left.\n",
    "\tAvailable letters: abcdefghijklmnopqrstuvwxyz\n",
    "\tPlease guess a letter: a\n",
    "\tGood guess: _ a_ _\n",
    "\t------------\n",
    "\tYou have 8 guesses left.\n",
    "\tAvailable letters: bcdefghijklmnopqrstuvwxyz\n",
    "\tPlease guess a letter: a\n",
    "\tOops! You've already guessed that letter: _ a_ _\n",
    "\t------------\n",
    "\tYou have 8 guesses left.\n",
    "\tAvailable letters: bcdefghijklmnopqrstuvwxyz\n",
    "\tPlease guess a letter: s\n",
    "\tOops! That letter is not in my word: _ a_ _\n",
    "\t------------\n",
    "\tYou have 7 guesses left.\n",
    "\tAvailable letters: bcdefghijklmnopqrtuvwxyz\n",
    "\tPlease guess a letter: t\n",
    "\tGood guess: ta_ t\n",
    "\t------------\n",
    "\tYou have 7 guesses left.\n",
    "\tAvailable letters: bcdefghijklmnopqruvwxyz\n",
    "\tPlease guess a letter: r\n",
    "\tOops! That letter is not in my word: ta_ t\n",
    "\t------------\n",
    "\tYou have 6 guesses left.\n",
    "\tAvailable letters: bcdefghijklmnopquvwxyz\n",
    "\tPlease guess a letter: m\n",
    "\tOops! That letter is not in my word: ta_ t\n",
    "\t------------\n",
    "\tYou have 5 guesses left.\n",
    "\tAvailable letters: bcdefghijklnopquvwxyz\n",
    "\tPlease guess a letter: c\n",
    "\tGood guess: tact\n",
    "\t------------\n",
    "\tCongratulations, you won!\n",
    "    \n",
    "    \n",
    "    Loading word list from file...\n",
    "\t55900 words loaded.\n",
    "\tWelcome to the game Hangman!\n",
    "\tI am thinking of a word that is 4 letters long.\n",
    "\t-----------\n",
    "\tYou have 8 guesses left.\n",
    "\tAvailable Letters: abcdefghijklmnopqrstuvwxyz\n",
    "\tPlease guess a letter: a\n",
    "\tOops! That letter is not in my word: _ _ _ _\n",
    "\t-----------\n",
    "\tYou have 7 guesses left.\n",
    "\tAvailable Letters: bcdefghijklmnopqrstuvwxyz\n",
    "\tPlease guess a letter: b\n",
    "\tOops! That letter is not in my word: _ _ _ _\n",
    "\t-----------\n",
    "\tYou have 6 guesses left.\n",
    "\tAvailable Letters: cdefghijklmnopqrstuvwxyz\n",
    "\tPlease guess a letter: c\n",
    "\tOops! That letter is not in my word: _ _ _ _\n",
    "\t-----------\n",
    "\tYou have 5 guesses left.\n",
    "\tAvailable Letters: defghijklmnopqrstuvwxyz\n",
    "\tPlease guess a letter: d\n",
    "\tOops! That letter is not in my word: _ _ _ _\n",
    "\t-----------\n",
    "\tYou have 4 guesses left.\n",
    "\tAvailable Letters: efghijklmnopqrstuvwxyz\n",
    "\tPlease guess a letter: e\n",
    "\tGood guess: e_ _ e\n",
    "\t-----------\n",
    "\tYou have 4 guesses left.\n",
    "\tAvailable Letters: fghijklmnopqrstuvwxyz\n",
    "\tPlease guess a letter: f\n",
    "\tOops! That letter is not in my word: e_ _ e\n",
    "\t-----------\n",
    "\tYou have 3 guesses left.\n",
    "\tAvailable Letters: ghijklmnopqrstuvwxyz\n",
    "\tPlease guess a letter: g\n",
    "\tOops! That letter is not in my word: e_ _ e\n",
    "\t-----------\n",
    "\tYou have 2 guesses left.\n",
    "\tAvailable Letters: hijklmnopqrstuvwxyz\n",
    "\tPlease guess a letter: h\n",
    "\tOops! That letter is not in my word: e_ _ e\n",
    "\t-----------\n",
    "\tYou have 1 guesses left.\n",
    "\tAvailable Letters: ijklmnopqrstuvwxyz\n",
    "\tPlease guess a letter: i\n",
    "\tOops! That letter is not in my word: e_ _ e\n",
    "\t-----------\n",
    "\tSorry, you ran out of guesses. The word was else\n",
    "    \n",
    "    Note that if you choose to use the helper functions isWordGuessed, getGuessedWord, or getAvailableLetters, you do not need to paste your definitions in the box. We have supplied our implementations of these functions for your use in this part of the problem. If you use additional helper functions, you will need to paste those definitions here.\n",
    "\n",
    "Your function should include calls to input to get the user's guess."
   ]
  },
  {
   "cell_type": "code",
   "execution_count": 5,
   "metadata": {
    "collapsed": true
   },
   "outputs": [],
   "source": [
    "def isWordGuessed(secretWord, lettersGuessed):\n",
    "    '''\n",
    "    secretWord: string, the word the user is guessing\n",
    "    lettersGuessed: list, what letters have been guessed so far\n",
    "    returns: boolean, True if all the letters of secretWord are in lettersGuessed;\n",
    "      False otherwise\n",
    "    '''\n",
    "    result = False\n",
    "    for letter in secretWord:\n",
    "        if letter in lettersGuessed:\n",
    "            result = True\n",
    "        else: \n",
    "            result = False\n",
    "            break\n",
    "    return result             "
   ]
  },
  {
   "cell_type": "code",
   "execution_count": 6,
   "metadata": {
    "collapsed": true
   },
   "outputs": [],
   "source": [
    "def getGuessedWord(secretWord, lettersGuessed):\n",
    "    '''\n",
    "    secretWord: string, the word the user is guessing\n",
    "    lettersGuessed: list, what letters have been guessed so far\n",
    "    returns: string, comprised of letters and underscores that represents\n",
    "      what letters in secretWord have been guessed so far.\n",
    "    '''\n",
    "    guessedWord=''\n",
    "    for letter in secretWord:\n",
    "        if letter not in lettersGuessed:\n",
    "            guessedWord += \"_ \"\n",
    "        else:\n",
    "            guessedWord += letter\n",
    "\n",
    "    return guessedWord"
   ]
  },
  {
   "cell_type": "code",
   "execution_count": 7,
   "metadata": {
    "collapsed": true
   },
   "outputs": [],
   "source": [
    "def getAvailableLetters(lettersGuessed):\n",
    "    '''\n",
    "    lettersGuessed: list, what letters have been guessed so far\n",
    "    returns: string, comprised of letters that represents what letters have not\n",
    "      yet been guessed.\n",
    "    '''\n",
    "    # FILL IN YOUR CODE HERE...\n",
    "    import string\n",
    "    alphabet = string.ascii_lowercase\n",
    "    availableLetter=''\n",
    "    \n",
    "    for letter in alphabet:\n",
    "        if letter not in lettersGuessed:\n",
    "            availableLetter += letter\n",
    "    \n",
    "    return availableLetter\n",
    "            \n"
   ]
  },
  {
   "cell_type": "code",
   "execution_count": 74,
   "metadata": {
    "collapsed": true
   },
   "outputs": [],
   "source": [
    "import random\n",
    "\n",
    "def load_words():\n",
    "    \"\"\"\n",
    "    loads words from the file\n",
    "    \"\"\"\n",
    "    with open('words_alpha.txt') as word_file:\n",
    "        valid_words = word_file.read().split()\n",
    "\n",
    "    return valid_words\n",
    "\n",
    "words = load_words()\n",
    "\n",
    "def chooseWord(wordlist):\n",
    "    \"\"\"\n",
    "    chooses random word\n",
    "    \"\"\"\n",
    "    return random.choice(wordlist)\n",
    "\n",
    "secret = chooseWord(words)\n"
   ]
  },
  {
   "cell_type": "code",
   "execution_count": 75,
   "metadata": {
    "collapsed": false
   },
   "outputs": [
    {
     "data": {
      "text/plain": [
       "'chamomile'"
      ]
     },
     "execution_count": 75,
     "metadata": {},
     "output_type": "execute_result"
    }
   ],
   "source": [
    "secret"
   ]
  },
  {
   "cell_type": "code",
   "execution_count": 8,
   "metadata": {
    "collapsed": true
   },
   "outputs": [],
   "source": [
    "def hangman(secretWord):\n",
    "    '''\n",
    "    secretWord: string, the secret word to guess.\n",
    "\n",
    "    Starts up an interactive game of Hangman.\n",
    "\n",
    "    * At the start of the game, let the user know how many \n",
    "      letters the secretWord contains.\n",
    "\n",
    "    * Ask the user to supply one guess (i.e. letter) per round.\n",
    "\n",
    "    * The user should receive feedback immediately after each guess \n",
    "      about whether their guess appears in the computers word.\n",
    "\n",
    "    * After each round, you should also display to the user the \n",
    "      partially guessed word so far, as well as letters that the \n",
    "      user has not yet guessed.\n",
    "\n",
    "    Follows the other limitations detailed in the problem write-up.\n",
    "    '''\n",
    "    # FILL IN YOUR CODE HERE...\n",
    "    print 'Welcome to the game, Hangman!'\n",
    "    print 'I am thinking of a word that is', len(secretWord), \"letters long.\"\n",
    "    mistakesMade = 0\n",
    "    lettersGuessed = []\n",
    "    lettersToguess = len(secretWord)\n",
    "    \n",
    "    maxTries = 8\n",
    "    \n",
    "    def inputLetter():\n",
    "        done = False\n",
    "        letter = ''\n",
    "        while not done:\n",
    "            letter = raw_input(\"Please, guess a letter: \").lower()\n",
    "            if letter.isalpha() and len(letter) == 1:\n",
    "                done = True\n",
    "        return letter \n",
    "                \n",
    "    def lettersLeft(word):\n",
    "        left = 0\n",
    "        for letter in word:\n",
    "            if letter == '_':\n",
    "                left +=1\n",
    "        return left        \n",
    "            \n",
    "    \n",
    "    while mistakesMade < maxTries and lettersToguess > 0:\n",
    "        print \"-------------\"\n",
    "        print \" You have \", maxTries-mistakesMade, \" guesses left\"\n",
    "        print \" Available letters: \", getAvailableLetters(lettersGuessed)\n",
    "        \n",
    "        guess = inputLetter()\n",
    "        \n",
    "        if guess in lettersGuessed:\n",
    "            print \" Oops! You've already guessed that letter: \"\n",
    "            mistakesMade += 1\n",
    "        elif guess in secretWord:\n",
    "            print \" Good guess: \"\n",
    "            lettersGuessed += guess\n",
    "            lettersToguess = lettersLeft(getGuessedWord(secretWord, lettersGuessed))\n",
    "        else:\n",
    "            print \" Oops! That letter is not in my word:\"\n",
    "            lettersGuessed += guess\n",
    "            mistakesMade += 1\n",
    "        print getGuessedWord(secretWord, lettersGuessed)\n",
    "        print \"-------------\"\n",
    "\n",
    "    if lettersToguess == 0:\n",
    "        print \" Congratulations, you won!\"\n",
    "    else:\n",
    "        print \" Sorry, you ran out of guesses. The word was\", secretWord"
   ]
  },
  {
   "cell_type": "code",
   "execution_count": 88,
   "metadata": {
    "collapsed": false
   },
   "outputs": [
    {
     "name": "stdout",
     "output_type": "stream",
     "text": [
      "Welcome to the game, Hangman!\n",
      "I am thinking of a word that is 9 letters long.\n",
      "-------------\n",
      " You have  8  guesses left\n",
      " Available letters:  abcdefghijklmnopqrstuvwxyz\n",
      "Please, guess a letter: c\n",
      "Good guess: \n",
      "c_ _ _ _ _ _ _ _ \n",
      "-------------\n",
      "-------------\n",
      " You have  8  guesses left\n",
      " Available letters:  abdefghijklmnopqrstuvwxyz\n",
      "Please, guess a letter: h\n",
      "Good guess: \n",
      "ch_ _ _ _ _ _ _ \n",
      "-------------\n",
      "-------------\n",
      " You have  8  guesses left\n",
      " Available letters:  abdefgijklmnopqrstuvwxyz\n",
      "Please, guess a letter: a\n",
      "Good guess: \n",
      "cha_ _ _ _ _ _ \n",
      "-------------\n",
      "-------------\n",
      " You have  8  guesses left\n",
      " Available letters:  bdefgijklmnopqrstuvwxyz\n",
      "Please, guess a letter: m\n",
      "Good guess: \n",
      "cham_ m_ _ _ \n",
      "-------------\n",
      "-------------\n",
      " You have  8  guesses left\n",
      " Available letters:  bdefgijklnopqrstuvwxyz\n",
      "Please, guess a letter: o\n",
      "Good guess: \n",
      "chamom_ _ _ \n",
      "-------------\n",
      "-------------\n",
      " You have  8  guesses left\n",
      " Available letters:  bdefgijklnpqrstuvwxyz\n",
      "Please, guess a letter: i\n",
      "Good guess: \n",
      "chamomi_ _ \n",
      "-------------\n",
      "-------------\n",
      " You have  8  guesses left\n",
      " Available letters:  bdefgjklnpqrstuvwxyz\n",
      "Please, guess a letter: l\n",
      "Good guess: \n",
      "chamomil_ \n",
      "-------------\n",
      "-------------\n",
      " You have  8  guesses left\n",
      " Available letters:  bdefgjknpqrstuvwxyz\n",
      "Please, guess a letter: e\n",
      "Good guess: \n",
      "chamomile\n",
      "-------------\n",
      "Congratulations, you won!\n"
     ]
    }
   ],
   "source": [
    "hangman(secret)\n"
   ]
  },
  {
   "cell_type": "code",
   "execution_count": 1,
   "metadata": {
    "collapsed": false
   },
   "outputs": [
    {
     "name": "stdout",
     "output_type": "stream",
     "text": [
      "Loading word list from file...\n",
      "('  ', 55909, 'words loaded.')\n"
     ]
    }
   ],
   "source": [
    "import random\n",
    "from ps3_hangman import loadWords, chooseWord"
   ]
  },
  {
   "cell_type": "code",
   "execution_count": 2,
   "metadata": {
    "collapsed": false
   },
   "outputs": [
    {
     "name": "stdout",
     "output_type": "stream",
     "text": [
      "Loading word list from file...\n",
      "('  ', 55909, 'words loaded.')\n"
     ]
    }
   ],
   "source": [
    "secretWord = chooseWord(loadWords())"
   ]
  },
  {
   "cell_type": "code",
   "execution_count": 9,
   "metadata": {
    "collapsed": false
   },
   "outputs": [
    {
     "name": "stdout",
     "output_type": "stream",
     "text": [
      "Welcome to the game, Hangman!\n",
      "I am thinking of a word that is 5 letters long.\n",
      "-------------\n",
      " You have  8  guesses left\n",
      " Available letters:  abcdefghijklmnopqrstuvwxyz\n",
      "Please, guess a letter: a\n",
      " Good guess: \n",
      "_ _ _ _ a\n",
      "-------------\n",
      "-------------\n",
      " You have  8  guesses left\n",
      " Available letters:  bcdefghijklmnopqrstuvwxyz\n",
      "Please, guess a letter: b\n",
      " Oops! That letter is not in my word:\n",
      "_ _ _ _ a\n",
      "-------------\n",
      "-------------\n",
      " You have  7  guesses left\n",
      " Available letters:  cdefghijklmnopqrstuvwxyz\n",
      "Please, guess a letter: p\n",
      " Oops! That letter is not in my word:\n",
      "_ _ _ _ a\n",
      "-------------\n",
      "-------------\n",
      " You have  6  guesses left\n",
      " Available letters:  cdefghijklmnoqrstuvwxyz\n",
      "Please, guess a letter: e\n",
      " Oops! That letter is not in my word:\n",
      "_ _ _ _ a\n",
      "-------------\n",
      "-------------\n",
      " You have  5  guesses left\n",
      " Available letters:  cdfghijklmnoqrstuvwxyz\n",
      "Please, guess a letter: g\n",
      " Good guess: \n",
      "_ _ g_ a\n",
      "-------------\n",
      "-------------\n",
      " You have  5  guesses left\n",
      " Available letters:  cdfhijklmnoqrstuvwxyz\n",
      "Please, guess a letter: d\n",
      " Good guess: \n",
      "d_ g_ a\n",
      "-------------\n",
      "-------------\n",
      " You have  5  guesses left\n",
      " Available letters:  cfhijklmnoqrstuvwxyz\n",
      "Please, guess a letter: o\n",
      " Good guess: \n",
      "dog_ a\n",
      "-------------\n",
      "-------------\n",
      " You have  5  guesses left\n",
      " Available letters:  cfhijklmnqrstuvwxyz\n",
      "Please, guess a letter: m\n",
      " Good guess: \n",
      "dogma\n",
      "-------------\n",
      " Congratulations, you won!\n"
     ]
    }
   ],
   "source": [
    "hangman(secretWord)"
   ]
  },
  {
   "cell_type": "code",
   "execution_count": null,
   "metadata": {
    "collapsed": true
   },
   "outputs": [],
   "source": []
  }
 ],
 "metadata": {
  "anaconda-cloud": {},
  "kernelspec": {
   "display_name": "Python [default]",
   "language": "python",
   "name": "python2"
  },
  "language_info": {
   "codemirror_mode": {
    "name": "ipython",
    "version": 2
   },
   "file_extension": ".py",
   "mimetype": "text/x-python",
   "name": "python",
   "nbconvert_exporter": "python",
   "pygments_lexer": "ipython2",
   "version": "2.7.12"
  }
 },
 "nbformat": 4,
 "nbformat_minor": 1
}
