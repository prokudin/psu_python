{
 "cells": [
  {
   "cell_type": "markdown",
   "metadata": {},
   "source": [
    "Problem 1\n",
    "Bookmark this page\n",
    "Problem 1 - Is the Word Guessed\n",
    "0.0/10.0 points (graded)\n",
    "Please read the Hangman Introduction before starting this problem. We'll start by writing 3 simple functions that will help us easily code the Hangman problem. First, implement the function isWordGuessed that takes in two parameters - a string, secretWord, and a list of letters, lettersGuessed. This function returns a boolean - True if secretWord has been guessed (ie, all the letters of secretWord are in lettersGuessed) and False otherwise.\n",
    "\n",
    "Example Usage:\n",
    "\n",
    ">>> secretWord = 'apple' \n",
    ">>> lettersGuessed = ['e', 'i', 'k', 'p', 'r', 's']\n",
    ">>> print(isWordGuessed(secretWord, lettersGuessed))\n",
    "False\n",
    "For this function, you may assume that all the letters in secretWord and lettersGuessed are lowercase."
   ]
  },
  {
   "cell_type": "code",
   "execution_count": 3,
   "metadata": {
    "collapsed": true
   },
   "outputs": [],
   "source": [
    "secretWord = 'apple' \n",
    "lettersGuessed = ['e', 'i', 'k', 'p', 'r', 's']"
   ]
  },
  {
   "cell_type": "code",
   "execution_count": 6,
   "metadata": {
    "collapsed": true
   },
   "outputs": [],
   "source": [
    "def isWordGuessed(secretWord, lettersGuessed):\n",
    "    '''\n",
    "    secretWord: string, the word the user is guessing\n",
    "    lettersGuessed: list, what letters have been guessed so far\n",
    "    returns: boolean, True if all the letters of secretWord are in lettersGuessed;\n",
    "      False otherwise\n",
    "    '''\n",
    "    result = False\n",
    "    for letter in secretWord:\n",
    "        if letter in lettersGuessed:\n",
    "            result = True\n",
    "        else: \n",
    "            result = False\n",
    "            break\n",
    "    return result             \n"
   ]
  },
  {
   "cell_type": "code",
   "execution_count": 7,
   "metadata": {
    "collapsed": false
   },
   "outputs": [
    {
     "data": {
      "text/plain": [
       "False"
      ]
     },
     "execution_count": 7,
     "metadata": {},
     "output_type": "execute_result"
    }
   ],
   "source": [
    "isWordGuessed(secretWord, lettersGuessed)"
   ]
  },
  {
   "cell_type": "code",
   "execution_count": null,
   "metadata": {
    "collapsed": true
   },
   "outputs": [],
   "source": []
  }
 ],
 "metadata": {
  "anaconda-cloud": {},
  "kernelspec": {
   "display_name": "Python [default]",
   "language": "python",
   "name": "python2"
  },
  "language_info": {
   "codemirror_mode": {
    "name": "ipython",
    "version": 2
   },
   "file_extension": ".py",
   "mimetype": "text/x-python",
   "name": "python",
   "nbconvert_exporter": "python",
   "pygments_lexer": "ipython2",
   "version": "2.7.12"
  }
 },
 "nbformat": 4,
 "nbformat_minor": 1
}
