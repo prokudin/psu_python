{
 "cells": [
  {
   "cell_type": "markdown",
   "metadata": {},
   "source": [
    "Problem 1\n",
    "Please read the Hangman Introduction before starting this problem. We'll start by writing 3 simple functions that will help us easily code the Hangman problem. First, implement the function isWordGuessed that takes in two parameters - a string, secretWord, and a list of letters, lettersGuessed. This function returns a boolean - True if secretWord has been guessed (ie, all the letters of secretWord are in lettersGuessed) and False otherwise."
   ]
  },
  {
   "cell_type": "code",
   "execution_count": 1,
   "metadata": {},
   "outputs": [],
   "source": [
    "def is_word_guessed(secret_word, letters_guessed):\n",
    "     \n",
    "    '''\n",
    "     secret_word = the hangman word\n",
    "     letters_guessed = letters guessed by user\n",
    "     output: True or False: whether or not the user guessed all the letters in word\n",
    "     \n",
    "    '''\n",
    "     \n",
    "    for every_letter in secret_word:\n",
    "        #if every_letter is not in the letters guessed, then hangman solution is false\n",
    "        if every_letter not in letters_guessed:\n",
    "            return(False)\n",
    "    return(True)\n",
    "    "
   ]
  },
  {
   "cell_type": "code",
   "execution_count": 2,
   "metadata": {},
   "outputs": [
    {
     "data": {
      "text/plain": [
       "True"
      ]
     },
     "execution_count": 2,
     "metadata": {},
     "output_type": "execute_result"
    }
   ],
   "source": [
    "secret_word = 'apple'\n",
    "letters_guessed = ('a','p','l','e')\n",
    "is_word_guessed(secret_word, letters_guessed)\n"
   ]
  },
  {
   "cell_type": "markdown",
   "metadata": {},
   "source": [
    "Next, implement the function getGuessedWord that takes in two parameters - a string, secretWord, and a list of letters, lettersGuessed. This function returns a string that is comprised of letters and underscores, based on what letters in lettersGuessed are in secretWord. This shouldn't be too different from isWordGuessed!\n",
    "\n",
    "When inserting underscores into your string, it's a good idea to add at least a space after each one, so it's clear to the user how many unguessed letters are left in the string (compare the readability of __ with ). This is called usability - it's very important, when programming, to consider the usability of your program. If users find your program difficult to understand or operate, they won't use it!\n",
    "\n",
    "For this problem, you are free to use spacing in any way you wish - our grader will only check that the letters and underscores are in the proper order; it will not look at spacing. We do encourage you to think about usability when designing.\n",
    "\n",
    "For this function, you may assume that all the letters in secretWord and lettersGuessed are lowercase."
   ]
  },
  {
   "cell_type": "code",
   "execution_count": 4,
   "metadata": {},
   "outputs": [],
   "source": [
    "def get_word_guessed(secret_word, letters_guessed):\n",
    "     \n",
    "    '''\n",
    "     secret_word = the hangman word\n",
    "     letters_guessed = letters guessed by user\n",
    "     output: the word with the guessed letters inputed and the not guessed letters a mystery\n",
    "     \n",
    "    '''\n",
    "    #initialize place to put output\n",
    "    progress_of_game = \"\"\n",
    "    \n",
    "    #for loop first loops through the first letter in secret word and compares it to the inputed letters\n",
    "    #if the letters match, it adds it to the first sequence of the progress_of_game string, if not, the else \n",
    "    #statement adds a dashed line. \n",
    "    \n",
    "    for any_letters in secret_word:\n",
    "        #build string to show progress\n",
    "        if any_letters in letters_guessed:  \n",
    "            progress_of_game += any_letters\n",
    "        else:\n",
    "            progress_of_game += \"_ \"\n",
    "    return(progress_of_game)"
   ]
  },
  {
   "cell_type": "code",
   "execution_count": 5,
   "metadata": {},
   "outputs": [
    {
     "data": {
      "text/plain": [
       "'app_ e'"
      ]
     },
     "execution_count": 5,
     "metadata": {},
     "output_type": "execute_result"
    }
   ],
   "source": [
    "secret_word = 'apple'\n",
    "letters_guessed = ('p','r','a','e')\n",
    "get_word_guessed(secret_word, letters_guessed)"
   ]
  },
  {
   "cell_type": "markdown",
   "metadata": {},
   "source": [
    "Next, implement the function getAvailableLetters that takes in one parameter - a list of letters, lettersGuessed. This function returns a string that is comprised of lowercase English letters - all lowercase English letters that are not in lettersGuessed.\n",
    "\n",
    "Note that this function should return the letters in alphabetical order, as in the example above.\n",
    "\n",
    "For this function, you may assume that all the letters in lettersGuessed are lowercase.\n",
    "\n",
    "Hint: You might consider using string.ascii_lowercase, which is a string comprised of all lowercase letters:"
   ]
  },
  {
   "cell_type": "code",
   "execution_count": 6,
   "metadata": {},
   "outputs": [],
   "source": [
    "import string\n",
    "alphabet = string.ascii_lowercase\n",
    "\n",
    "def get_available_letters(letters_guessed):\n",
    "     \n",
    "    '''\n",
    "\n",
    "     letters_guessed = letters guessed by user\n",
    "     output: letters that are still available to guess from alphabet\n",
    "     \n",
    "     \n",
    "    '''\n",
    "    #initialize place to put output\n",
    "    letters_used = \"\"\n",
    "    \n",
    "    #for loop first loops through the first letter in letters_guessed and compares it to all letters in the alphabet\n",
    "    #if the letters do not match, it adds it to the first sequence of the letters_used string, if not, the else \n",
    "    #statement adds a dashed line. \n",
    "    \n",
    "    for any_letters in alphabet:\n",
    "        #build string to show progress of letters available\n",
    "        if any_letters in letters_guessed:  \n",
    "            letters_used += \" \"\n",
    "        else:\n",
    "            letters_used += any_letters\n",
    "    return(letters_used)\n",
    "    "
   ]
  },
  {
   "cell_type": "code",
   "execution_count": 7,
   "metadata": {},
   "outputs": [
    {
     "name": "stdout",
     "output_type": "stream",
     "text": [
      " bcd fghijklmno q stuvwxyz\n"
     ]
    }
   ],
   "source": [
    "letters_guessed = ('p','r','a','e')\n",
    "print(get_available_letters(letters_guessed))"
   ]
  },
  {
   "cell_type": "code",
   "execution_count": 8,
   "metadata": {},
   "outputs": [
    {
     "name": "stdout",
     "output_type": "stream",
     "text": [
      "Hello user, are you ready to play Hangman?\n",
      "The word contains 5 letters\n",
      "====================================\n",
      "You have 8 guesses left\n",
      "What is your guess?a\n",
      "You got one: a_ _ _ _ \n",
      "Letters Available:  bcdefghijklmnopqrstuvwxyz\n",
      "====================================\n",
      "You have 7 guesses left\n",
      "What is your guess?p\n",
      "You got one: app_ _ \n",
      "Letters Available:  bcdefghijklmno qrstuvwxyz\n",
      "====================================\n",
      "You have 6 guesses left\n",
      "What is your guess?;\n",
      "Try again: app_ _ \n",
      "Letters Available:  bcdefghijklmno qrstuvwxyz\n",
      "====================================\n",
      "You have 5 guesses left\n",
      "What is your guess?l\n",
      "Try again: appl_ \n",
      "Letters Available:  bcdefghijk mno qrstuvwxyz\n",
      "====================================\n",
      "You have 4 guesses left\n",
      "What is your guess?e\n",
      "Try again: apple\n",
      "You won! The word is apple .\n"
     ]
    }
   ],
   "source": [
    "#Hangman Code\n",
    "\n",
    "\n",
    "\n",
    "\n",
    "#secret word\n",
    "secret_word = 'apple'\n",
    "#number of guesses (dificulty level)\n",
    "number_of_guesses = 8\n",
    "\n",
    "\n",
    "#intro: \n",
    "print('Hello user, are you ready to play Hangman?')\n",
    "#let user know number of letters\n",
    "print('The word contains ' + str(len(secret_word)) + ' letters')\n",
    "print('====================================')\n",
    "\n",
    "#initialize string\n",
    "letters_guessed = ''\n",
    "\n",
    "#create forever looping true while loop - like c-code \n",
    "while(1):\n",
    "\n",
    "    #show number of guesses\n",
    "    print('You have ' + str(number_of_guesses) + ' guesses left')\n",
    "    \n",
    "    #ask for guess\n",
    "    user_input = raw_input('What is your guess?')\n",
    "    \n",
    "    #concatenate letters guessed string\n",
    "    letters_guessed += user_input\n",
    "    \n",
    "    #check if letter in word\n",
    "    if letters_guessed in secret_word:\n",
    "        print('You got one: ' + get_word_guessed(secret_word, letters_guessed))\n",
    "        \n",
    "    else:\n",
    "        print (\"Try again: \" + get_word_guessed(secret_word, letters_guessed))\n",
    "    \n",
    "    #check if won\n",
    "    if number_of_guesses == 1:\n",
    "        print ('You lose')\n",
    "        break\n",
    "    \n",
    "    if is_word_guessed(secret_word, letters_guessed) == 1:\n",
    "        print ('You won! The word is ' + secret_word + ' .')\n",
    "        break\n",
    "\n",
    "        \n",
    "    \n",
    "    number_of_guesses = number_of_guesses-1\n",
    "    print('Letters Available: '+ get_available_letters(letters_guessed))\n",
    "    print('====================================')\n",
    "    \n",
    "\n"
   ]
  },
  {
   "cell_type": "code",
   "execution_count": null,
   "metadata": {},
   "outputs": [],
   "source": []
  }
 ],
 "metadata": {
  "anaconda-cloud": {},
  "kernelspec": {
   "display_name": "Python 2",
   "language": "python",
   "name": "python2"
  },
  "language_info": {
   "codemirror_mode": {
    "name": "ipython",
    "version": 2
   },
   "file_extension": ".py",
   "mimetype": "text/x-python",
   "name": "python",
   "nbconvert_exporter": "python",
   "pygments_lexer": "ipython2",
   "version": "2.7.14"
  }
 },
 "nbformat": 4,
 "nbformat_minor": 1
}
