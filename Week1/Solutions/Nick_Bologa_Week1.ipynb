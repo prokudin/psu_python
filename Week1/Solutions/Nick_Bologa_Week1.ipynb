{
 "cells": [
  {
   "cell_type": "code",
   "execution_count": null,
   "metadata": {},
   "outputs": [],
   "source": [
    "#Nick Bologa Week 1"
   ]
  },
  {
   "cell_type": "code",
   "execution_count": 3,
   "metadata": {},
   "outputs": [
    {
     "name": "stdout",
     "output_type": "stream",
     "text": [
      "Number of vowels are: 2\n"
     ]
    }
   ],
   "source": [
    "#Problem 1\n",
    "\n",
    "s = \"apple\"\n",
    "\n",
    "count = 0\n",
    "\n",
    "for vow in s:\n",
    "    if vow == 'a' or vow == 'e' or vow == 'i' or vow == 'o' or vow == 'u':\n",
    "        count += 1\n",
    "print( 'Number of vowels are: ' + str(count))"
   ]
  },
  {
   "cell_type": "code",
   "execution_count": 4,
   "metadata": {},
   "outputs": [
    {
     "name": "stdout",
     "output_type": "stream",
     "text": [
      "The total number of bobs are: 2\n"
     ]
    }
   ],
   "source": [
    "#Problem 2\n",
    "\n",
    "s = 'azcbobobegghakl'\n",
    "\n",
    "bob_count = 0\n",
    "\n",
    "for phrase in range(len(s)-2):\n",
    "    if s[phrase:phrase+3] == 'bob':\n",
    "        bob_count += 1\n",
    "print('The total number of bobs are: ' + str(bob_count))"
   ]
  },
  {
   "cell_type": "code",
   "execution_count": 16,
   "metadata": {},
   "outputs": [
    {
     "name": "stdout",
     "output_type": "stream",
     "text": [
      "('Longest substring in alphabetical order is:', 'ajl')\n"
     ]
    }
   ],
   "source": [
    "#Problem 3\n",
    "\n",
    "s='klajljkancldjblvklajk'\n",
    "\n",
    "count = 0\n",
    "maxcount = 0\n",
    "last_letter = 0\n",
    "\n",
    "for char in range(len(s) - 1):\n",
    "    if (s[char] <= s[char + 1]):\n",
    "        count += 1\n",
    "        if count > maxcount:\n",
    "            maxcount = count\n",
    "            last_letter = char + 1\n",
    "    else:\n",
    "        count = 0\n",
    "first_letter = last_letter - maxcount\n",
    "print('Longest substring in alphabetical order is:', s[first_letter:last_letter + 1])"
   ]
  },
  {
   "cell_type": "code",
   "execution_count": null,
   "metadata": {},
   "outputs": [],
   "source": []
  }
 ],
 "metadata": {
  "kernelspec": {
   "display_name": "Python 2",
   "language": "python",
   "name": "python2"
  },
  "language_info": {
   "codemirror_mode": {
    "name": "ipython",
    "version": 2
   },
   "file_extension": ".py",
   "mimetype": "text/x-python",
   "name": "python",
   "nbconvert_exporter": "python",
   "pygments_lexer": "ipython2",
   "version": "2.7.14"
  }
 },
 "nbformat": 4,
 "nbformat_minor": 2
}
