{
 "cells": [
  {
   "cell_type": "raw",
   "metadata": {},
   "source": [
    "Week 1, Problem 2"
   ]
  },
  {
   "cell_type": "code",
   "execution_count": null,
   "metadata": {},
   "outputs": [],
   "source": [
    "s = str(input(\"Input a string: \"))\n",
    "cnt = 0\n",
    "sub_string= str(input(\"Input the substring you want to check: \"))\n",
    "len_ss = len(sub_string)\n",
    "for i in range(len(s) - len_ss + 1):\n",
    "    if s[i:i+len_ss] == sub_string:\n",
    "        cnt += 1\n",
    "print(\"Number of times \"+sub_string+\" occurs is: \"+str(cnt))"
   ]
  }
 ],
 "metadata": {
  "kernelspec": {
   "display_name": "Python 3",
   "language": "python",
   "name": "python3"
  },
  "language_info": {
   "codemirror_mode": {
    "name": "ipython",
    "version": 3
   },
   "file_extension": ".py",
   "mimetype": "text/x-python",
   "name": "python",
   "nbconvert_exporter": "python",
   "pygments_lexer": "ipython3",
   "version": "3.7.1"
  }
 },
 "nbformat": 4,
 "nbformat_minor": 2
}
