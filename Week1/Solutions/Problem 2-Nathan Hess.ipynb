{
 "cells": [
  {
   "cell_type": "markdown",
   "metadata": {},
   "source": [
    "Problem 2\n",
    " \n",
    "Assume s is a string of lower case characters.\n",
    "\n",
    "Write a program that prints the number of times the string 'bob' occurs in s. For example, if s = 'azcbobobegghakl', then your program should print\n",
    "\n",
    "Number of times bob occurs is: 2"
   ]
  },
  {
   "cell_type": "code",
   "execution_count": 1,
   "metadata": {},
   "outputs": [
    {
     "name": "stdout",
     "output_type": "stream",
     "text": [
      "This program will count the number of times bob occurs in a phrase.\n",
      "Enter a phrase: bob is her or bob is not here?\n",
      "The total number of bob occurrences is: 2\n"
     ]
    }
   ],
   "source": [
    "print('This program will count the number of times bob occurs in a phrase.')\n",
    "\n",
    "s = raw_input('Enter a phrase: ')\n",
    "\n",
    "bob_count = 0\n",
    "\n",
    "for i in range(len(s)):\n",
    "    if s[i:i+3] == 'bob':\n",
    "        bob_count += 1\n",
    "print('The total number of bob occurrences is: ' + str(bob_count))"
   ]
  },
  {
   "cell_type": "code",
   "execution_count": null,
   "metadata": {},
   "outputs": [],
   "source": []
  }
 ],
 "metadata": {
  "anaconda-cloud": {},
  "kernelspec": {
   "display_name": "Python 2",
   "language": "python",
   "name": "python2"
  },
  "language_info": {
   "codemirror_mode": {
    "name": "ipython",
    "version": 2
   },
   "file_extension": ".py",
   "mimetype": "text/x-python",
   "name": "python",
   "nbconvert_exporter": "python",
   "pygments_lexer": "ipython2",
   "version": "2.7.15"
  }
 },
 "nbformat": 4,
 "nbformat_minor": 1
}
