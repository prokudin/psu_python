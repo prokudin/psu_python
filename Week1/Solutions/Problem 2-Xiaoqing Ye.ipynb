{
 "cells": [
  {
   "cell_type": "markdown",
   "metadata": {},
   "source": [
    "Problem 2\n",
    " \n",
    "Assume s is a string of lower case characters.\n",
    "\n",
    "Write a program that prints the number of times the string 'bob' occurs in s. For example, if s = 'azcbobobegghakl', then your program should print\n",
    "\n",
    "Number of times bob occurs is: 2"
   ]
  },
  {
   "cell_type": "code",
   "execution_count": 2,
   "metadata": {
    "collapsed": false
   },
   "outputs": [
    {
     "name": "stdout",
     "output_type": "stream",
     "text": [
      "4\n"
     ]
    }
   ],
   "source": [
    "#!/usr/bin/env python3\n",
    "# -*- coding: utf-8 -*-\n",
    "\"\"\"\n",
    "Created on Fri Feb  1 01:31:03 2019\n",
    "\n",
    "@author: YXQ\n",
    "\"\"\"\n",
    "\n",
    "count = 0\n",
    "s = \"obobobooobobowboobbobb\"\n",
    "for n in range(len(s)-2):\n",
    "    if s[n] == 'b' and s[n + 1] == 'o' and s[n + 2] == 'b':\n",
    "        count += 1    \n",
    "print(str(count))"
   ]
  },
  {
   "cell_type": "code",
   "execution_count": null,
   "metadata": {
    "collapsed": true
   },
   "outputs": [],
   "source": []
  }
 ],
 "metadata": {
  "anaconda-cloud": {},
  "kernelspec": {
   "display_name": "Python [default]",
   "language": "python",
   "name": "python2"
  },
  "language_info": {
   "codemirror_mode": {
    "name": "ipython",
    "version": 2
   },
   "file_extension": ".py",
   "mimetype": "text/x-python",
   "name": "python",
   "nbconvert_exporter": "python",
   "pygments_lexer": "ipython2",
   "version": "2.7.12"
  }
 },
 "nbformat": 4,
 "nbformat_minor": 1
}
