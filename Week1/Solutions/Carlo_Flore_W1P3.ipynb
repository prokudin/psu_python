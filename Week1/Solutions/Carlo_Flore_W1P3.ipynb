{
 "cells": [
  {
   "cell_type": "raw",
   "metadata": {},
   "source": [
    "Week 1, Problem 3"
   ]
  },
  {
   "cell_type": "code",
   "execution_count": 1,
   "metadata": {},
   "outputs": [
    {
     "name": "stdout",
     "output_type": "stream",
     "text": [
      "Input a string: asjdasadbiaovg\n",
      "Longest substring in alphabetical order is: aov\n"
     ]
    }
   ],
   "source": [
    "s = str(input(\"Input a string: \"))\n",
    "lstring = s[0]\n",
    "slen = 1\n",
    "\n",
    "for i in range(len(s)):\n",
    "    for j in range(i,len(s)-1):\n",
    "            if s[j+1] >= s[j]:\n",
    "                    if (j+1)-i+1 > slen:\n",
    "                        lstring = s[i:(j+1)+1]\n",
    "                        slen = (j+1)-i+1\n",
    "            else:\n",
    "                        break\n",
    "\n",
    "print(\"Longest substring in alphabetical order is: \" + lstring)"
   ]
  },
  {
   "cell_type": "code",
   "execution_count": null,
   "metadata": {},
   "outputs": [],
   "source": []
  }
 ],
 "metadata": {
  "kernelspec": {
   "display_name": "Python 3",
   "language": "python",
   "name": "python3"
  },
  "language_info": {
   "codemirror_mode": {
    "name": "ipython",
    "version": 3
   },
   "file_extension": ".py",
   "mimetype": "text/x-python",
   "name": "python",
   "nbconvert_exporter": "python",
   "pygments_lexer": "ipython3",
   "version": "3.7.1"
  }
 },
 "nbformat": 4,
 "nbformat_minor": 2
}
