{
 "cells": [
  {
   "cell_type": "code",
   "execution_count": 1,
   "metadata": {},
   "outputs": [
    {
     "name": "stdout",
     "output_type": "stream",
     "text": [
      "Number of times bob occurs: 2\n"
     ]
    }
   ],
   "source": [
    "\"\"\"\n",
    "Created on Sun Jan 27 19:49:19 2019\n",
    "\n",
    "@author: Sean Won\n",
    "\"\"\"\n",
    "s = 'azcbobobegghakl'\n",
    "count = 0\n",
    "n = len(s)\n",
    "for char in range(n-2):\n",
    "    #if char == n - 2:\n",
    "    #    break\n",
    "    if s[char] == \"b\" and s[char + 1] == \"o\" and s[char + 2] == \"b\":\n",
    "      count += 1\n",
    "print(\"Number of times bob occurs: \"+str(count))"
   ]
  },
  {
   "cell_type": "code",
   "execution_count": null,
   "metadata": {},
   "outputs": [],
   "source": []
  }
 ],
 "metadata": {
  "kernelspec": {
   "display_name": "Python 2",
   "language": "python",
   "name": "python2"
  },
  "language_info": {
   "codemirror_mode": {
    "name": "ipython",
    "version": 2
   },
   "file_extension": ".py",
   "mimetype": "text/x-python",
   "name": "python",
   "nbconvert_exporter": "python",
   "pygments_lexer": "ipython2",
   "version": "2.7.15"
  }
 },
 "nbformat": 4,
 "nbformat_minor": 2
}
