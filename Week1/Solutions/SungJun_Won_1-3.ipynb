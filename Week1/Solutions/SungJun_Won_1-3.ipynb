{
 "cells": [
  {
   "cell_type": "code",
   "execution_count": 1,
   "metadata": {},
   "outputs": [
    {
     "name": "stdout",
     "output_type": "stream",
     "text": [
      "beggh\n"
     ]
    }
   ],
   "source": [
    "\"\"\"\n",
    "Created on Mon Jan 28 02:00:11 2019\n",
    "\n",
    "@author: Sean Won\n",
    "\"\"\"\n",
    "\n",
    "s = \"azcbobobegghakl\"\n",
    "finalcall = \"\"\n",
    "lastcall = \"\"\n",
    "call = \"\"\n",
    "\n",
    "for n in s:\n",
    "    if n >= lastcall:\n",
    "        if call == \"\":\n",
    "          call = lastcall + call + n\n",
    "          if len(finalcall) < len(call):\n",
    "              finalcall = call\n",
    "          lastcall = n\n",
    "        else:\n",
    "          call = call + n\n",
    "          if len(finalcall) < len(call):\n",
    "              finalcall = call\n",
    "          lastcall = n\n",
    "    else:\n",
    "        lastcall = n\n",
    "        call = \"\"\n",
    "print(finalcall)"
   ]
  },
  {
   "cell_type": "code",
   "execution_count": null,
   "metadata": {},
   "outputs": [],
   "source": []
  }
 ],
 "metadata": {
  "kernelspec": {
   "display_name": "Python 2",
   "language": "python",
   "name": "python2"
  },
  "language_info": {
   "codemirror_mode": {
    "name": "ipython",
    "version": 2
   },
   "file_extension": ".py",
   "mimetype": "text/x-python",
   "name": "python",
   "nbconvert_exporter": "python",
   "pygments_lexer": "ipython2",
   "version": "2.7.14"
  }
 },
 "nbformat": 4,
 "nbformat_minor": 2
}
