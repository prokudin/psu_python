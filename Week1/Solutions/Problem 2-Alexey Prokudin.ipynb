{
 "cells": [
  {
   "cell_type": "markdown",
   "metadata": {},
   "source": [
    "Problem 2\n",
    " \n",
    "Assume s is a string of lower case characters.\n",
    "\n",
    "Write a program that prints the number of times the string 'bob' occurs in s. For example, if s = 'azcbobobegghakl', then your program should print\n",
    "\n",
    "Number of times bob occurs is: 2"
   ]
  },
  {
   "cell_type": "code",
   "execution_count": 8,
   "metadata": {},
   "outputs": [],
   "source": [
    "s = 'azcbobobegghakl'\n",
    "findit = 'bob'"
   ]
  },
  {
   "cell_type": "code",
   "execution_count": 35,
   "metadata": {},
   "outputs": [],
   "source": [
    "def counter(s,findit):\n",
    "    count=0\n",
    "    for i in range(len(s)-len(findit)):\n",
    "        for j in range(len(findit)):\n",
    "            if s[i+j] == findit[j]:\n",
    "                print[s[i+j]]\n",
    "                count+=1\n",
    "                \n",
    "    print \" Number of times \", findit, \" occurs is: \", count"
   ]
  },
  {
   "cell_type": "code",
   "execution_count": 36,
   "metadata": {},
   "outputs": [
    {
     "name": "stdout",
     "output_type": "stream",
     "text": [
      "['b']\n",
      "['b']\n",
      "['o']\n",
      "['b']\n",
      "['b']\n",
      "['o']\n",
      "['b']\n",
      "['b']\n",
      " Number of times  bob  occurs  8\n"
     ]
    }
   ],
   "source": [
    "counter(s,findit)"
   ]
  },
  {
   "cell_type": "code",
   "execution_count": 41,
   "metadata": {},
   "outputs": [
    {
     "name": "stdout",
     "output_type": "stream",
     "text": [
      "b 1\n",
      "b 3\n",
      "o 3\n",
      "b 3\n",
      "b 5\n",
      "o 5\n",
      "b 5\n",
      "b 7\n"
     ]
    }
   ],
   "source": [
    "for i in range(len(s)-len(findit)): \n",
    "    #print s[i]\n",
    "    for j in range(len(findit)):\n",
    "        if s[i+j] == findit[j]: print s[i+j], i\n",
    "        \n",
    "        "
   ]
  },
  {
   "cell_type": "code",
   "execution_count": 47,
   "metadata": {},
   "outputs": [],
   "source": [
    "def smart_split(s,findit):\n",
    "    substring = ''\n",
    "    for i in range(len(s)-len(findit)):\n",
    "        for j in range(len(findit)):\n",
    "            substring += s[i+j]\n",
    "    print substring, \" \""
   ]
  },
  {
   "cell_type": "code",
   "execution_count": 48,
   "metadata": {},
   "outputs": [
    {
     "name": "stdout",
     "output_type": "stream",
     "text": [
      "azczcbcbobobobobobobebegegggghghahak  \n"
     ]
    }
   ],
   "source": [
    "smart_split(s,findit)"
   ]
  },
  {
   "cell_type": "code",
   "execution_count": 49,
   "metadata": {},
   "outputs": [
    {
     "data": {
      "text/plain": [
       "'azc'"
      ]
     },
     "execution_count": 49,
     "metadata": {},
     "output_type": "execute_result"
    }
   ],
   "source": [
    "s[0:0+3]"
   ]
  },
  {
   "cell_type": "code",
   "execution_count": null,
   "metadata": {},
   "outputs": [],
   "source": []
  }
 ],
 "metadata": {
  "anaconda-cloud": {},
  "kernelspec": {
   "display_name": "Python 2",
   "language": "python",
   "name": "python2"
  },
  "language_info": {
   "codemirror_mode": {
    "name": "ipython",
    "version": 2
   },
   "file_extension": ".py",
   "mimetype": "text/x-python",
   "name": "python",
   "nbconvert_exporter": "python",
   "pygments_lexer": "ipython2",
   "version": "2.7.15"
  }
 },
 "nbformat": 4,
 "nbformat_minor": 1
}
