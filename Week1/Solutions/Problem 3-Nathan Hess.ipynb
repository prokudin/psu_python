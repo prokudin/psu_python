{
 "cells": [
  {
   "cell_type": "markdown",
   "metadata": {},
   "source": [
    "Problem 3\n",
    " \n",
    "Assume s is a string of lower case characters.\n",
    "\n",
    "Write a program that prints the longest substring of s in which the letters occur in alphabetical order. For example, if s = 'azcbobobegghakl', then your program should print\n",
    "\n",
    "Longest substring in alphabetical order is: beggh\n",
    "In the case of ties, print the first substring. For example, if s = 'abcbcd', then your program should print\n",
    "\n",
    "Longest substring in alphabetical order is: abc\n",
    "Note: This problem may be challenging. We encourage you to work smart. If you've spent more than a few hours on this problem, we suggest that you move on to a different part of the course. If you have time, come back to this problem after you've had a break and cleared your head."
   ]
  },
  {
   "cell_type": "code",
   "execution_count": 5,
   "metadata": {},
   "outputs": [
    {
     "name": "stdout",
     "output_type": "stream",
     "text": [
      "This program will find the longest string of letters in alphabetical order.\n",
      "Enter a phrase: azcbobobegghakl\n",
      "The longest phrase in alphabetical order is: beggh\n"
     ]
    }
   ],
   "source": [
    "print('This program will find the longest string of letters in alphabetical order.')\n",
    "\n",
    "s=raw_input('Enter a phrase: ')\n",
    "\n",
    "longest_phrase = s[0]\n",
    "\n",
    "phrase = s[0]\n",
    "\n",
    "for char in s[1:]:\n",
    "    if char >= phrase[-1]:\n",
    "        phrase += char\n",
    "        if len(phrase) > len(longest_phrase):\n",
    "            longest_phrase = phrase\n",
    "    else:\n",
    "        phrase = char\n",
    "print('The longest phrase in alphabetical order is: ' + longest_phrase)"
   ]
  },
  {
   "cell_type": "code",
   "execution_count": null,
   "metadata": {},
   "outputs": [],
   "source": []
  }
 ],
 "metadata": {
  "anaconda-cloud": {},
  "kernelspec": {
   "display_name": "Python 2",
   "language": "python",
   "name": "python2"
  },
  "language_info": {
   "codemirror_mode": {
    "name": "ipython",
    "version": 2
   },
   "file_extension": ".py",
   "mimetype": "text/x-python",
   "name": "python",
   "nbconvert_exporter": "python",
   "pygments_lexer": "ipython2",
   "version": "2.7.15"
  }
 },
 "nbformat": 4,
 "nbformat_minor": 1
}
