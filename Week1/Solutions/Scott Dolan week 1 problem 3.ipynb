{
 "cells": [
  {
   "cell_type": "code",
   "execution_count": 1,
   "metadata": {},
   "outputs": [
    {
     "name": "stdout",
     "output_type": "stream",
     "text": [
      "Longest substring in alphabetical order is: ilz\n"
     ]
    }
   ],
   "source": [
    "s = 'zxlwujqiuilzytfvg'\n",
    "\n",
    "\n",
    "j = 0\n",
    "\n",
    "for g in s:\n",
    "    if j == 0:\n",
    "        temp = g\n",
    "        string = temp\n",
    "        j += 1\n",
    "    elif temp[-1] <= g:\n",
    "        temp += g       \n",
    "        if  len(temp) > len(string):\n",
    "            string = temp\n",
    "    else:\n",
    "        temp = g\n",
    "        \n",
    "print('Longest substring in alphabetical order is: ' + string) \n"
   ]
  },
  {
   "cell_type": "code",
   "execution_count": null,
   "metadata": {},
   "outputs": [],
   "source": []
  }
 ],
 "metadata": {
  "kernelspec": {
   "display_name": "Python 2",
   "language": "python",
   "name": "python2"
  },
  "language_info": {
   "codemirror_mode": {
    "name": "ipython",
    "version": 2
   },
   "file_extension": ".py",
   "mimetype": "text/x-python",
   "name": "python",
   "nbconvert_exporter": "python",
   "pygments_lexer": "ipython2",
   "version": "2.7.14"
  }
 },
 "nbformat": 4,
 "nbformat_minor": 2
}
