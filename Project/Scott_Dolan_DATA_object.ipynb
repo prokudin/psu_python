{
 "cells": [
  {
   "cell_type": "code",
   "execution_count": null,
   "metadata": {},
   "outputs": [],
   "source": [
    "import pandas as pd\n",
    "import os\n",
    "\n",
    "class DATA(object):\n",
    "    \"\"\"\n",
    "    reads in data files into a pandas dataframe \n",
    "    \"\"\"\n",
    "    \n",
    "    def __init__(self,path):\n",
    "        self.path = path\n",
    "        self.files = os.listdir(self.path)\n",
    "        self.DataFrames = {}\n",
    "        os.chdir(self.path)\n",
    "        \n",
    "    def getFileNames(self):\n",
    "        return self.files\n",
    "    \n",
    "    def getCWDPath(self):\n",
    "        return os.getcwd()\n",
    "    \n",
    "    def createDF(self):\n",
    "        for i in range(len(self.files)):\n",
    "            self.DataFrames[i] = pd.DataFrame(pd.read_excel(self.files[i]))\n",
    "            \n",
    "    def getDF(self,i):\n",
    "        return self.DataFrames[i]\n",
    "    \n",
    "    def getDataFrames(self):\n",
    "        return self.DataFrames\n",
    "        \n",
    "path = './data'\n",
    "myData = DATA(path)\n",
    "myData.createDF()\n"
   ]
  }
 ],
 "metadata": {
  "kernelspec": {
   "display_name": "Python 3",
   "language": "python",
   "name": "python3"
  },
  "language_info": {
   "codemirror_mode": {
    "name": "ipython",
    "version": 3
   },
   "file_extension": ".py",
   "mimetype": "text/x-python",
   "name": "python",
   "nbconvert_exporter": "python",
   "pygments_lexer": "ipython3",
   "version": "3.6.8"
  }
 },
 "nbformat": 4,
 "nbformat_minor": 2
}
