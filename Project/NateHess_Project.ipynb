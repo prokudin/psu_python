{
 "cells": [
  {
   "cell_type": "code",
   "execution_count": null,
   "metadata": {},
   "outputs": [],
   "source": [
    "spreadSheets = []\n",
    "\n",
    "class DATA(object)\n",
    "    def __init___(self, spreadSheets)\n",
    "    '''\n",
    "    Initializes a DATA object\n",
    "    \n",
    "    spreadSheets(list): a list of .xlxs files\n",
    "    newSheets(list): a list of spreadSheets read with the pandas library\n",
    "    \n",
    "    a DATA object has two attributes:\n",
    "        self.spreadSheets = spreadSheets\n",
    "        self.newSheets = newSheets\n",
    "        \n",
    "    ''' \n",
    "    newSheets = []\n",
    "    import pandas as pd\n",
    "    \n",
    "    for sheet in spreadSheets:\n",
    "        pandaSheet = pd.read_excel(sheet)\n",
    "        newSheets = newSheets.append(pandaSheet)\n",
    "        \n",
    "    self.spreadSheets = spreadSheets    \n",
    "    self.newSheets = newSheets\n",
    "        \n"
   ]
  }
 ],
 "metadata": {
  "kernelspec": {
   "display_name": "Python 2",
   "language": "python",
   "name": "python2"
  },
  "language_info": {
   "codemirror_mode": {
    "name": "ipython",
    "version": 2
   },
   "file_extension": ".py",
   "mimetype": "text/x-python",
   "name": "python",
   "nbconvert_exporter": "python",
   "pygments_lexer": "ipython2",
   "version": "2.7.14"
  }
 },
 "nbformat": 4,
 "nbformat_minor": 2
}
